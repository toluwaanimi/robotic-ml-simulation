{
 "cells": [
  {
   "cell_type": "code",
   "execution_count": 7,
   "metadata": {
    "collapsed": true,
    "ExecuteTime": {
     "start_time": "2023-04-12T22:24:24.897765Z",
     "end_time": "2023-04-12T22:24:24.900579Z"
    }
   },
   "outputs": [],
   "source": [
    "import numpy as np\n",
    "import matplotlib.pyplot as plt\n",
    "from sklearn.neural_network import MLPRegressor  # multilayer perceptron for regression\n",
    "import pandas as pd\n",
    "from sklearn.preprocessing import StandardScaler\n",
    "\n"
   ]
  },
  {
   "cell_type": "code",
   "execution_count": 8,
   "outputs": [],
   "source": [
    "def direct_kin_(joints, links, origin=[0, 0]):\n",
    "    \"\"\"\n",
    "    Implement the forward kinematics for a two-joint planar manipulator.\n",
    "    Args:\n",
    "        joints (list): A list of two joint angles in radians, representing the configuration of the manipulator.\n",
    "        links (list): A list of two link lengths representing the lengths of the two links of the manipulator.\n",
    "        origin (list, optional): An optional parameter that represents the origin point (default [0,0]) from which\n",
    "        the forward kinematics are calculated.\n",
    "\n",
    "    Returns:\n",
    "        list: A list of two arrays [X, Y] representing the Cartesian coordinates of all the link endpoints.\n",
    "    \"\"\"\n",
    "    X = np.zeros(3)\n",
    "    Y = np.zeros(3)\n",
    "    X[0] = origin[0]\n",
    "    Y[0] = origin[1]\n",
    "    X[1] = X[0] + links[0] * np.cos(joints[0])\n",
    "    Y[1] = Y[0] + links[0] * np.sin(joints[0])\n",
    "    X[2] = X[1] + links[1] * np.cos(joints[0] + joints[1])\n",
    "    Y[2] = Y[1] + links[1] * np.sin(joints[0] + joints[1])\n",
    "    return [X, Y]  # return the coordinates of all link endpoints\n",
    "\n",
    "\n",
    "def deg2rad(degrees):\n",
    "    \"\"\"\n",
    "    Convert degrees to radians.\n",
    "\n",
    "    Args:\n",
    "        degrees (float): A value in degrees to be converted to radians.\n",
    "\n",
    "    Returns:\n",
    "        float: The value converted to radians.\n",
    "    \"\"\"\n",
    "    return degrees * np.pi / 180\n",
    "\n",
    "\n",
    "# Define a function to update the data frame\n",
    "def update_dataframe(df, network, learning_rate, algorithm, n_data_set, n_test_data_set, joint_range_x, joint_range_y,\n",
    "                     max_iteration, activation, solver, accuracy, test_accuracy, error, end_effector_position):\n",
    "    \"\"\"\n",
    "    Update the data frame with a new row of data.\n",
    "    \"\"\"\n",
    "    new_row = pd.DataFrame({'Network Layers': [network],\n",
    "                            'Learning Rate': [learning_rate],\n",
    "                            'Algorithm': [algorithm],\n",
    "                            'Number of Dataset': [n_data_set],\n",
    "                            'Number of Test Data': [n_test_data_set],\n",
    "                            'Joint range X': [joint_range_x],\n",
    "                            'Joint range Y': [joint_range_y],\n",
    "                            'Max Iteration': [max_iteration],\n",
    "                            'Activation': [activation],\n",
    "                            'Solver': [solver],\n",
    "                            'Accuracy': [accuracy],\n",
    "                            'Test Accuracy': [test_accuracy],\n",
    "                            'Error': [error],\n",
    "                            'Actual End-effector Position': [end_effector_position]\n",
    "                            })\n",
    "    df = pd.concat([df, new_row], ignore_index=True)\n",
    "    return df"
   ],
   "metadata": {
    "collapsed": false,
    "ExecuteTime": {
     "start_time": "2023-04-12T22:24:25.977910Z",
     "end_time": "2023-04-12T22:24:25.985214Z"
    }
   }
  },
  {
   "cell_type": "code",
   "execution_count": 9,
   "outputs": [],
   "source": [
    "class Arm:\n",
    "    def __init__(self, links=[10, 10], origin=[0, 0], init=[0, 0]):\n",
    "        \"\"\"\n",
    "        Class constructor, defining the basic attributes of the arm and initial configuration.\n",
    "\n",
    "        Args:\n",
    "            links (list, optional): An optional parameter that represents the lengths of the two links of the arm (default [10, 10]).\n",
    "            origin (list, optional): An optional parameter that represents the origin point (default [0, 0]) from which the arm is positioned.\n",
    "            init (list, optional): An optional parameter that represents the initial joint angles (default [0, 0]).\n",
    "        \"\"\"\n",
    "        self.link1 = links[0]\n",
    "        self.link2 = links[1]\n",
    "        self.x0 = origin[0]\n",
    "        self.y0 = origin[1]\n",
    "        self.joint1 = init[0]\n",
    "        self.joint2 = init[1]\n",
    "        self.direct_kin()  # Call the direct_kin() method to perform forward kinematics calculation\n",
    "\n",
    "    def direct_kin(self):\n",
    "        \"\"\"\n",
    "        Calculate the Cartesian coordinates for the current joint configuration.\n",
    "        \"\"\"\n",
    "        # Call the direct_kin_() function with the current joint angles, link lengths, and origin coordinates\n",
    "        [self.X, self.Y] = direct_kin_([self.joint1, self.joint2], [self.link1, self.link2], [self.x0, self.y0])\n",
    "\n",
    "    def plot_arm(self):\n",
    "        \"\"\"\n",
    "        Generate a 2D plot of the current arm configuration.\n",
    "        \"\"\"\n",
    "        # Plot the baseline\n",
    "        plt.plot([-20, 20], [0, 0], 'k')\n",
    "\n",
    "        # Plot the arm segments\n",
    "        plt.plot(self.X, self.Y, linewidth=2.0)\n",
    "\n",
    "        # Plot the arm segment endpoints as red circles\n",
    "        plt.plot(self.X, self.Y, 'ro', linewidth=2.0)\n",
    "\n",
    "        # Set the x and y axis limits based on the total length of the arm\n",
    "        sum_links = (self.link1 + self.link2) * 1.1\n",
    "        plt.axis([-sum_links, sum_links, -1, sum_links])\n",
    "\n",
    "        # Set equal scaling for x and y axes\n",
    "        plt.axis('equal')\n",
    "\n",
    "        # Show the plot\n",
    "        plt.show()\n",
    "\n",
    "    def change_joint_origin(self, new_origin_x, new_origin_y):\n",
    "        # Prompt user for new arm origin\n",
    "        print(\"Current arm origin: \", self.joint1, \" \", self.joint2)\n",
    "        self.joint1 = new_origin_x\n",
    "        self.joint2 = new_origin_y\n",
    "        print(\"Arm joint1 changed to: \", self.joint1, self.joint2)\n",
    "        self.direct_kin()\n",
    "\n",
    "    def change_arm_origin(self, new_origin_x, new_origin_y):\n",
    "        # Prompt user for new arm origin\n",
    "        print(\"Current arm origin: \", self.x0, \" \", self.y0)\n",
    "        self.x0 = new_origin_x\n",
    "        self.y0 = new_origin_y\n",
    "        print(\"Arm origin changed to: \", self.x0, self.y0)\n",
    "        self.direct_kin()\n",
    "\n",
    "    def create_data(self, ann, n_train, n_test, range1, range2):\n",
    "        \"\"\"\n",
    "        Prepare the training and test sets for the neural network solver.\n",
    "\n",
    "        Parameters:\n",
    "            - ann: Neural network solver (e.g., an instance of a neural network class)\n",
    "            - n_train: Number of training samples\n",
    "            - n_test: Number of test samples\n",
    "            - range1: Range for joint 1 values (e.g., [min_joint1, max_joint1])\n",
    "            - range2: Range for joint 2 values (e.g., [min_joint2, max_joint2])\n",
    "        \"\"\"\n",
    "        self.inv_solver = ann  # Store the neural network solver in the class attribute\n",
    "        n_data = n_train + n_test  # Total number of data points\n",
    "        joint_space = np.hstack((np.random.uniform(range1[0], range1[1], size=(n_data, 1)),\n",
    "                                 np.random.uniform(range2[0], range2[1],\n",
    "                                                   size=(n_data, 1))))  # Generate random joint configurations\n",
    "        cartesian_space = np.zeros(np.shape(joint_space))  # Initialize array for storing Cartesian coordinates\n",
    "        for i in range(len(joint_space)):\n",
    "            ax, ay = direct_kin_(joint_space[i], [self.link1,\n",
    "                                                  self.link2])  # Calculate Cartesian coordinates for each joint configuration\n",
    "            cartesian_space[i] = [ax[2], ay[2]]  # Store the Cartesian coordinates\n",
    "        self.cart_train = np.asarray(cartesian_space[:n_train, :])  # Store the training Cartesian coordinates\n",
    "        self.joint_train = np.asarray(joint_space[:n_train, :])  # Store the training joint configurations\n",
    "        self.cart_test = np.asarray(cartesian_space[n_train:, :])  # Store the test Cartesian coordinates\n",
    "        self.joint_test = np.asarray(joint_space[n_train:, :])  # Store the test joint configurations\n",
    "\n",
    "    def train_inv_kin(self):\n",
    "        \"\"\"\n",
    "        Train the kinematic solver.\n",
    "\n",
    "        Returns:\n",
    "            - Training accuracy (mean of scores from the solver)\n",
    "        \"\"\"\n",
    "        self.inv_solver.fit(self.cart_train, self.joint_train)  # Fit the neural network solver with the training data\n",
    "        score = self.inv_solver.score(self.cart_train, self.joint_train)  # Calculate training accuracy\n",
    "        return np.mean(score)  # Return the mean of the training accuracy\n",
    "\n",
    "    def test_inv_kin(self):\n",
    "        \"\"\"\n",
    "        Test the kinematic solver.\n",
    "\n",
    "        Returns:\n",
    "            - Testing accuracy (mean of scores from the solver)\n",
    "        \"\"\"\n",
    "        score = self.inv_solver.score(self.cart_test, self.joint_test)  # Calculate testing accuracy\n",
    "        return np.mean(score)  # Return the mean of the testing accuracy\n",
    "\n",
    "    def inv_kin(self, Cartesian):\n",
    "        \"\"\"\n",
    "        Query the trained inverse kinematic solver on a single Cartesian target.\n",
    "\n",
    "        Args:\n",
    "            - Cartesian: Cartesian target position\n",
    "\n",
    "        Returns:\n",
    "            - err: Euclidean distance error between the predicted and actual end-effector position\n",
    "            - [self.X[2], self.Y[2]]: Actual end-effector position\n",
    "        \"\"\"\n",
    "        joints = self.inv_solver.predict([Cartesian])  # Predict joint configurations for given Cartesian target\n",
    "        [self.joint1, self.joint2] = joints[0]  # Update joint angles\n",
    "        self.direct_kin()  # Update Cartesian coordinates of the end-effector\n",
    "        err = np.sqrt((Cartesian[0] - self.X[2]) ** 2 + (Cartesian[1] - self.Y[2]) ** 2)  # Calculate error\n",
    "        return err, [self.X[2], self.Y[2]]  # Return error and actual end-effector position"
   ],
   "metadata": {
    "collapsed": false,
    "ExecuteTime": {
     "start_time": "2023-04-12T22:24:29.186138Z",
     "end_time": "2023-04-12T22:24:29.193857Z"
    }
   }
  },
  {
   "cell_type": "code",
   "execution_count": 10,
   "outputs": [
    {
     "name": "stdout",
     "output_type": "stream",
     "text": [
      "The average training accuracy for the dataset:  0.9493790562583598\n",
      "The average testing accuracy:  0.9434732375830002\n"
     ]
    },
    {
     "data": {
      "text/plain": "<Figure size 640x480 with 1 Axes>",
      "image/png": "[encoded data removed]"
     },
     "metadata": {},
     "output_type": "display_data"
    }
   ],
   "source": [
    "# this code is only an example, remove it or change it\n",
    "\n",
    "a = Arm()\n",
    "\n",
    "ann = MLPRegressor()\n",
    "\n",
    "n_train = 1000\n",
    "n_test = 100\n",
    "\n",
    "j1_range = (0, np.pi / 2)\n",
    "j2_range = (0, np.pi)\n",
    "\n",
    "a.create_data(ann, n_train, n_test, j1_range, j2_range)\n",
    "accuracy = a.train_inv_kin()\n",
    "test_accuracy = a.test_inv_kin()\n",
    "print(\"The average training accuracy for the dataset: \", accuracy)\n",
    "print(\"The average testing accuracy: \", test_accuracy)\n",
    "a.plot_arm()\n",
    "\n"
   ],
   "metadata": {
    "collapsed": false,
    "ExecuteTime": {
     "start_time": "2023-04-12T22:24:30.733304Z",
     "end_time": "2023-04-12T22:24:30.989967Z"
    }
   }
  },
  {
   "cell_type": "code",
   "execution_count": 11,
   "outputs": [
    {
     "name": "stdout",
     "output_type": "stream",
     "text": [
      "Error: 2.448944587446138\n",
      "Actual End-effector Position: [0.0009855563903560238, 0.06343466667622985]\n"
     ]
    }
   ],
   "source": [
    "# Define a Cartesian target position\n",
    "cartesian_target = [1.5, 2.0]  # target position\n",
    "\n",
    "# Call the inv_kin() function with the Cartesian target position\n",
    "err, actual_end_effector_position = a.inv_kin(cartesian_target)\n",
    "\n",
    "# Print the calculated error and actual end-effector position\n",
    "print(\"Error:\", err)\n",
    "print(\"Actual End-effector Position:\", actual_end_effector_position)"
   ],
   "metadata": {
    "collapsed": false,
    "ExecuteTime": {
     "start_time": "2023-04-12T22:24:32.657935Z",
     "end_time": "2023-04-12T22:24:32.672055Z"
    }
   }
  },
  {
   "cell_type": "code",
   "execution_count": 12,
   "outputs": [
    {
     "name": "stdout",
     "output_type": "stream",
     "text": [
      "Original Data Frame:\n",
      "  Network Layers Learning Rate Algorithm  Number of Dataset   \n",
      "0         (100,)      constant       MLP               1000  \\\n",
      "\n",
      "   Number of Test Data            Joint range X           Joint range Y   \n",
      "0                  100  (0, 1.5707963267948966)  (0, 3.141592653589793)  \\\n",
      "\n",
      "   Max Iteration Activation Solver  Accuracy  Test Accuracy     Error   \n",
      "0              0       relu   adam  0.949379       0.943473  2.448945  \\\n",
      "\n",
      "                   Actual End-effector Position  \n",
      "0  [0.0009855563903560238, 0.06343466667622985]  \n"
     ]
    }
   ],
   "source": [
    "\n",
    "df = pd.DataFrame({'Network Layers': [(100,)],\n",
    "                   'Learning Rate': ['constant'],\n",
    "                   'Algorithm': ['MLP'],\n",
    "                   'Number of Dataset': [n_train],\n",
    "                   'Number of Test Data': [n_test],\n",
    "                   'Joint range X': [j1_range],\n",
    "                   'Joint range Y': [j2_range],\n",
    "                   'Max Iteration': [0],\n",
    "                   'Activation': ['relu'],\n",
    "                   'Solver': ['adam'],\n",
    "                   'Accuracy': [accuracy],\n",
    "                   'Test Accuracy': [test_accuracy],\n",
    "                   'Error': [err],\n",
    "                   'Actual End-effector Position': [actual_end_effector_position]\n",
    "                   })\n",
    "\n",
    "# Display the original data frame\n",
    "print(\"Original Data Frame:\")\n",
    "print(df)"
   ],
   "metadata": {
    "collapsed": false,
    "ExecuteTime": {
     "start_time": "2023-04-12T22:24:34.405726Z",
     "end_time": "2023-04-12T22:24:34.415337Z"
    }
   }
  },
  {
   "cell_type": "markdown",
   "source": [
    "Task 1 : change the network structure (number of layers and neurons), and parameters (transfer functions, learning rate, algorithms, stop conditions): how does prediction accuracy change?\n"
   ],
   "metadata": {
    "collapsed": false
   }
  },
  {
   "cell_type": "markdown",
   "source": [
    "A. Change the network structure(number of layer and neurons) and parameters(transfer functions, learning rate, algorithms, stop conditions)"
   ],
   "metadata": {
    "collapsed": false
   }
  },
  {
   "cell_type": "code",
   "execution_count": 13,
   "outputs": [
    {
     "name": "stdout",
     "output_type": "stream",
     "text": [
      "The average training accuracy for the dataset:  0.6974267097259905\n",
      "The average testing accuracy:  0.7020894025380678\n",
      "Error: 5.278953604191238\n",
      "Actual End-effector Position: [-1.7449206911480566, 6.163873300589595]\n"
     ]
    }
   ],
   "source": [
    "# Example\n",
    "hidden_layers = (50,)\n",
    "max_iter = 200\n",
    "activation_func = \"identity\"\n",
    "solver_algo = \"adam\"\n",
    "learning_rate = \"invscaling\"\n",
    "stop_condition = False\n",
    "ann = MLPRegressor(hidden_layer_sizes=hidden_layers,\n",
    "                   max_iter=max_iter,\n",
    "                   activation=activation_func,\n",
    "                   solver=solver_algo,\n",
    "                   learning_rate=learning_rate,\n",
    "                   early_stopping=stop_condition)\n",
    "n_train = 1000\n",
    "n_test = 100\n",
    "j1_range = (0, np.pi / 2)\n",
    "j2_range = (0, np.pi)\n",
    "a.create_data(ann, n_train, n_test, j1_range, j2_range)\n",
    "accuracy = a.train_inv_kin()\n",
    "test_accuracy = a.test_inv_kin()\n",
    "print(\"The average training accuracy for the dataset: \", accuracy)\n",
    "print(\"The average testing accuracy: \", test_accuracy)\n",
    "cartesian_target = [1.5, 2.0]  #  target position\n",
    "\n",
    "# Call the inv_kin() function with the Cartesian target position\n",
    "err, actual_end_effector_position = a.inv_kin(cartesian_target)\n",
    "# Print the calculated error and actual end-effector position\n",
    "print(\"Error:\", err)\n",
    "print(\"Actual End-effector Position:\", actual_end_effector_position)\n",
    "df = update_dataframe(df, hidden_layers, learning_rate, 'MLP', n_train, n_test, j1_range,\n",
    "                      j2_range,\n",
    "                      max_iter, activation_func, solver_algo, accuracy, test_accuracy, err,\n",
    "                      actual_end_effector_position)"
   ],
   "metadata": {
    "collapsed": false,
    "ExecuteTime": {
     "start_time": "2023-04-12T22:24:39.947443Z",
     "end_time": "2023-04-12T22:24:40.029032Z"
    }
   }
  },
  {
   "cell_type": "code",
   "execution_count": 14,
   "outputs": [
    {
     "name": "stdout",
     "output_type": "stream",
     "text": [
      "The average training accuracy for the dataset:  0.9572776660563052\n",
      "The average testing accuracy:  0.9567668368709981\n",
      "Error: 2.7329496023288233\n",
      "Actual End-effector Position: [0.05177921003287089, -0.31768636195155997]\n"
     ]
    },
    {
     "name": "stderr",
     "output_type": "stream",
     "text": [
      "/Users/toluwanimi/PycharmProjects/final-course-work/venv/lib/python3.10/site-packages/sklearn/neural_network/_multilayer_perceptron.py:686: ConvergenceWarning: Stochastic Optimizer: Maximum iterations (300) reached and the optimization hasn't converged yet.\n",
      "  warnings.warn(\n"
     ]
    }
   ],
   "source": [
    "#  Example\n",
    "hidden_layers = (200,)\n",
    "max_iter = 300\n",
    "activation_func = \"logistic\"\n",
    "solver_algo = \"adam\"\n",
    "learning_rate = \"adaptive\"\n",
    "stop_condition = True\n",
    "ann = MLPRegressor(hidden_layer_sizes=hidden_layers,\n",
    "                   max_iter=max_iter,\n",
    "                   activation=activation_func,\n",
    "                   solver=solver_algo,\n",
    "                   learning_rate=learning_rate,\n",
    "                   early_stopping=stop_condition)\n",
    "n_train = 1000\n",
    "n_test = 100\n",
    "j1_range = (0, np.pi / 2)\n",
    "j2_range = (0, np.pi)\n",
    "a.create_data(ann, n_train, n_test, j1_range, j2_range)\n",
    "accuracy = a.train_inv_kin()\n",
    "test_accuracy = a.test_inv_kin()\n",
    "print(\"The average training accuracy for the dataset: \", accuracy)\n",
    "print(\"The average testing accuracy: \", test_accuracy)\n",
    "cartesian_target = [1.5, 2.0]  #  target position\n",
    "\n",
    "# Call the inv_kin() function with the Cartesian target position\n",
    "err, actual_end_effector_position = a.inv_kin(cartesian_target)\n",
    "# Print the calculated error and actual end-effector position\n",
    "print(\"Error:\", err)\n",
    "print(\"Actual End-effector Position:\", actual_end_effector_position)\n",
    "df = update_dataframe(df, hidden_layers, learning_rate, 'MLP', n_train, n_test, j1_range,\n",
    "                      j2_range,\n",
    "                      max_iter, activation_func, solver_algo, accuracy, test_accuracy, err,\n",
    "                      actual_end_effector_position)"
   ],
   "metadata": {
    "collapsed": false,
    "ExecuteTime": {
     "start_time": "2023-04-12T22:24:42.286679Z",
     "end_time": "2023-04-12T22:24:42.915509Z"
    }
   }
  },
  {
   "cell_type": "code",
   "execution_count": 15,
   "outputs": [
    {
     "name": "stdout",
     "output_type": "stream",
     "text": [
      "The average training accuracy for the dataset:  0.975856271621404\n",
      "The average testing accuracy:  0.9817013746390828\n",
      "Error: 1.2726759968714203\n",
      "Actual End-effector Position: [1.3539848155989187, 3.2642720272698362]\n"
     ]
    }
   ],
   "source": [
    "# Example\n",
    "hidden_layers = (100,50)\n",
    "max_iter = 400\n",
    "activation_func = \"tanh\"\n",
    "solver_algo = \"adam\"\n",
    "learning_rate = \"adaptive\"\n",
    "stop_condition = True\n",
    "ann = MLPRegressor(hidden_layer_sizes=hidden_layers,\n",
    "                   max_iter=max_iter,\n",
    "                   activation=activation_func,\n",
    "                   solver=solver_algo,\n",
    "                   learning_rate=learning_rate,\n",
    "                   early_stopping=stop_condition)\n",
    "n_train = 1000\n",
    "n_test = 100\n",
    "j1_range = (0, np.pi / 2)\n",
    "j2_range = (0, np.pi)\n",
    "a.create_data(ann, n_train, n_test, j1_range, j2_range)\n",
    "accuracy = a.train_inv_kin()\n",
    "test_accuracy = a.test_inv_kin()\n",
    "print(\"The average training accuracy for the dataset: \", accuracy)\n",
    "print(\"The average testing accuracy: \", test_accuracy)\n",
    "cartesian_target = [1.5, 2.0]  #  target position\n",
    "\n",
    "# Call the inv_kin() function with the Cartesian target position\n",
    "err, actual_end_effector_position = a.inv_kin(cartesian_target)\n",
    "# Print the calculated error and actual end-effector position\n",
    "print(\"Error:\", err)\n",
    "print(\"Actual End-effector Position:\", actual_end_effector_position)\n",
    "df = update_dataframe(df, hidden_layers, learning_rate, 'MLP', n_train, n_test, j1_range,\n",
    "                      j2_range,\n",
    "                      max_iter, activation_func, solver_algo, accuracy, test_accuracy, err,\n",
    "                      actual_end_effector_position)"
   ],
   "metadata": {
    "collapsed": false,
    "ExecuteTime": {
     "start_time": "2023-04-12T22:24:44.905332Z",
     "end_time": "2023-04-12T22:24:46.300238Z"
    }
   }
  },
  {
   "cell_type": "code",
   "execution_count": 16,
   "outputs": [
    {
     "name": "stdout",
     "output_type": "stream",
     "text": [
      "The average training accuracy for the dataset:  0.6927569861498342\n",
      "The average testing accuracy:  0.7052534455371868\n",
      "Error: 4.715546674217057\n",
      "Actual End-effector Position: [-1.8141490281875399, 5.354518841157869]\n"
     ]
    }
   ],
   "source": [
    "# Fourth Example\n",
    "hidden_layers = (200,100)\n",
    "max_iter = 500\n",
    "activation_func = \"identity\"\n",
    "solver_algo = \"sgd\"\n",
    "learning_rate = \"adaptive\"\n",
    "stop_condition = False\n",
    "ann = MLPRegressor(hidden_layer_sizes=hidden_layers,\n",
    "                   max_iter=max_iter,\n",
    "                   activation=activation_func,\n",
    "                   solver=solver_algo,\n",
    "                   learning_rate=learning_rate,\n",
    "                   early_stopping=stop_condition)\n",
    "n_train = 1000\n",
    "n_test = 100\n",
    "j1_range = (0, np.pi / 2)\n",
    "j2_range = (0, np.pi)\n",
    "a.create_data(ann, n_train, n_test, j1_range, j2_range)\n",
    "accuracy = a.train_inv_kin()\n",
    "test_accuracy = a.test_inv_kin()\n",
    "print(\"The average training accuracy for the dataset: \", accuracy)\n",
    "print(\"The average testing accuracy: \", test_accuracy)\n",
    "cartesian_target = [1.5, 2.0]  #  target position\n",
    "\n",
    "# Call the inv_kin() function with the Cartesian target position\n",
    "err, actual_end_effector_position = a.inv_kin(cartesian_target)\n",
    "# Print the calculated error and actual end-effector position\n",
    "print(\"Error:\", err)\n",
    "print(\"Actual End-effector Position:\", actual_end_effector_position)\n",
    "df = update_dataframe(df, hidden_layers, learning_rate, 'MLP', n_train, n_test, j1_range,\n",
    "                      j2_range,\n",
    "                      max_iter, activation_func, solver_algo, accuracy, test_accuracy, err,\n",
    "                      actual_end_effector_position)"
   ],
   "metadata": {
    "collapsed": false,
    "ExecuteTime": {
     "start_time": "2023-04-12T22:24:47.909032Z",
     "end_time": "2023-04-12T22:24:48.808179Z"
    }
   }
  },
  {
   "cell_type": "code",
   "execution_count": 17,
   "outputs": [
    {
     "name": "stdout",
     "output_type": "stream",
     "text": [
      "The average training accuracy for the dataset:  0.6658803370438171\n",
      "The average testing accuracy:  0.6637514732686143\n",
      "Error: 5.659001195552421\n",
      "Actual End-effector Position: [-2.312227819795039, 6.182249822911646]\n"
     ]
    }
   ],
   "source": [
    "# Example\n",
    "hidden_layers = (150,60)\n",
    "max_iter = 350\n",
    "activation_func = \"logistic\"\n",
    "solver_algo = \"sgd\"\n",
    "learning_rate = \"adaptive\"\n",
    "stop_condition = False\n",
    "ann = MLPRegressor(hidden_layer_sizes=hidden_layers,\n",
    "                   max_iter=max_iter,\n",
    "                   activation=activation_func,\n",
    "                   solver=solver_algo,\n",
    "                   learning_rate=learning_rate,\n",
    "                   early_stopping=stop_condition)\n",
    "n_train = 1000\n",
    "n_test = 100\n",
    "j1_range = (0, np.pi / 2)\n",
    "j2_range = (0, np.pi)\n",
    "a.create_data(ann, n_train, n_test, j1_range, j2_range)\n",
    "accuracy = a.train_inv_kin()\n",
    "test_accuracy = a.test_inv_kin()\n",
    "print(\"The average training accuracy for the dataset: \", accuracy)\n",
    "print(\"The average testing accuracy: \", test_accuracy)\n",
    "cartesian_target = [1.5, 2.0]  #  target position\n",
    "\n",
    "# Call the inv_kin() function with the Cartesian target position\n",
    "err, actual_end_effector_position = a.inv_kin(cartesian_target)\n",
    "# Print the calculated error and actual end-effector position\n",
    "print(\"Error:\", err)\n",
    "print(\"Actual End-effector Position:\", actual_end_effector_position)\n",
    "df = update_dataframe(df, hidden_layers, learning_rate, 'MLP', n_train, n_test, j1_range,\n",
    "                      j2_range,\n",
    "                      max_iter, activation_func, solver_algo, accuracy, test_accuracy, err,\n",
    "                      actual_end_effector_position)"
   ],
   "metadata": {
    "collapsed": false,
    "ExecuteTime": {
     "start_time": "2023-04-12T22:24:49.824741Z",
     "end_time": "2023-04-12T22:24:52.324234Z"
    }
   }
  },
  {
   "cell_type": "code",
   "execution_count": 18,
   "outputs": [
    {
     "name": "stdout",
     "output_type": "stream",
     "text": [
      "The average training accuracy for the dataset:  0.6777029648991504\n",
      "The average testing accuracy:  0.6721634648385745\n",
      "Error: 5.066066474653976\n",
      "Actual End-effector Position: [-2.2966980778242085, 5.354118845756501]\n"
     ]
    }
   ],
   "source": [
    "# Example\n",
    "hidden_layers = (300,450)\n",
    "max_iter = 600\n",
    "activation_func = \"logistic\"\n",
    "solver_algo = \"sgd\"\n",
    "learning_rate = \"adaptive\"\n",
    "stop_condition = False\n",
    "ann = MLPRegressor(hidden_layer_sizes=hidden_layers,\n",
    "                   max_iter=max_iter,\n",
    "                   activation=activation_func,\n",
    "                   solver=solver_algo,\n",
    "                   learning_rate=learning_rate,\n",
    "                   early_stopping=stop_condition)\n",
    "n_train = 1000\n",
    "n_test = 100\n",
    "j1_range = (0, np.pi / 2)\n",
    "j2_range = (0, np.pi)\n",
    "a.create_data(ann, n_train, n_test, j1_range, j2_range)\n",
    "accuracy = a.train_inv_kin()\n",
    "test_accuracy = a.test_inv_kin()\n",
    "print(\"The average training accuracy for the dataset: \", accuracy)\n",
    "print(\"The average testing accuracy: \", test_accuracy)\n",
    "cartesian_target = [1.5, 2.0]  #  target position\n",
    "\n",
    "# Call the inv_kin() function with the Cartesian target position\n",
    "err, actual_end_effector_position = a.inv_kin(cartesian_target)\n",
    "# Print the calculated error and actual end-effector position\n",
    "print(\"Error:\", err)\n",
    "print(\"Actual End-effector Position:\", actual_end_effector_position)\n",
    "df = update_dataframe(df, hidden_layers, learning_rate, 'MLP', n_train, n_test, j1_range,\n",
    "                      j2_range,\n",
    "                      max_iter, activation_func, solver_algo, accuracy, test_accuracy, err,\n",
    "                      actual_end_effector_position)"
   ],
   "metadata": {
    "collapsed": false,
    "ExecuteTime": {
     "start_time": "2023-04-12T22:24:53.240842Z",
     "end_time": "2023-04-12T22:25:04.971815Z"
    }
   }
  },
  {
   "cell_type": "code",
   "execution_count": 19,
   "outputs": [
    {
     "name": "stdout",
     "output_type": "stream",
     "text": [
      "The average training accuracy for the dataset:  0.16055518748069197\n",
      "The average testing accuracy:  0.2882253766143644\n",
      "Error: 16.197951556630635\n",
      "Actual End-effector Position: [14.773894840498077, 11.28317566322815]\n"
     ]
    }
   ],
   "source": [
    "# Eight Example\n",
    "hidden_layers = (600,300)\n",
    "max_iter = 600\n",
    "activation_func = \"tanh\"\n",
    "solver_algo = \"sgd\"\n",
    "learning_rate = \"invscaling\"\n",
    "stop_condition = False\n",
    "ann = MLPRegressor(hidden_layer_sizes=hidden_layers,\n",
    "                   max_iter=max_iter,\n",
    "                   activation=activation_func,\n",
    "                   solver=solver_algo,\n",
    "                   learning_rate=learning_rate,\n",
    "                   early_stopping=stop_condition)\n",
    "n_train = 1000\n",
    "n_test = 100\n",
    "j1_range = (0, np.pi / 2)\n",
    "j2_range = (0, np.pi)\n",
    "a.create_data(ann, n_train, n_test, j1_range, j2_range)\n",
    "accuracy = a.train_inv_kin()\n",
    "test_accuracy = a.test_inv_kin()\n",
    "print(\"The average training accuracy for the dataset: \", accuracy)\n",
    "print(\"The average testing accuracy: \", test_accuracy)\n",
    "cartesian_target = [1.5, 2.0]  #  target position\n",
    "\n",
    "# Call the inv_kin() function with the Cartesian target position\n",
    "err, actual_end_effector_position = a.inv_kin(cartesian_target)\n",
    "# Print the calculated error and actual end-effector position\n",
    "print(\"Error:\", err)\n",
    "print(\"Actual End-effector Position:\", actual_end_effector_position)\n",
    "df = update_dataframe(df, hidden_layers, learning_rate, 'MLP', n_train, n_test, j1_range,\n",
    "                      j2_range,\n",
    "                      max_iter, activation_func, solver_algo, accuracy, test_accuracy, err,\n",
    "                      actual_end_effector_position)"
   ],
   "metadata": {
    "collapsed": false,
    "ExecuteTime": {
     "start_time": "2023-04-12T22:25:07.342839Z",
     "end_time": "2023-04-12T22:25:28.579940Z"
    }
   }
  },
  {
   "cell_type": "code",
   "execution_count": 20,
   "outputs": [
    {
     "name": "stdout",
     "output_type": "stream",
     "text": [
      "The average training accuracy for the dataset:  0.6908043952670592\n",
      "The average testing accuracy:  0.6873343880927769\n",
      "Error: 4.680112400726291\n",
      "Actual End-effector Position: [-1.7152636564235255, 5.40081338845783]\n"
     ]
    }
   ],
   "source": [
    "# Nine Example\n",
    "hidden_layers = (320,460)\n",
    "max_iter = 450\n",
    "activation_func = \"identity\"\n",
    "solver_algo = \"sgd\"\n",
    "learning_rate = \"constant\"\n",
    "stop_condition = True\n",
    "ann = MLPRegressor(hidden_layer_sizes=hidden_layers,\n",
    "                   max_iter=max_iter,\n",
    "                   activation=activation_func,\n",
    "                   solver=solver_algo,\n",
    "                   learning_rate=learning_rate,\n",
    "                   early_stopping=stop_condition)\n",
    "n_train = 1000\n",
    "n_test = 100\n",
    "j1_range = (0, np.pi / 2)\n",
    "j2_range = (0, np.pi)\n",
    "a.create_data(ann, n_train, n_test, j1_range, j2_range)\n",
    "accuracy = a.train_inv_kin()\n",
    "test_accuracy = a.test_inv_kin()\n",
    "print(\"The average training accuracy for the dataset: \", accuracy)\n",
    "print(\"The average testing accuracy: \", test_accuracy)\n",
    "cartesian_target = [1.5, 2.0]  #  target position\n",
    "\n",
    "# Call the inv_kin() function with the Cartesian target position\n",
    "err, actual_end_effector_position = a.inv_kin(cartesian_target)\n",
    "# Print the calculated error and actual end-effector position\n",
    "print(\"Error:\", err)\n",
    "print(\"Actual End-effector Position:\", actual_end_effector_position)\n",
    "df = update_dataframe(df, hidden_layers, learning_rate, 'MLP', n_train, n_test, j1_range,\n",
    "                      j2_range,\n",
    "                      max_iter, activation_func, solver_algo, accuracy, test_accuracy, err,\n",
    "                      actual_end_effector_position)"
   ],
   "metadata": {
    "collapsed": false,
    "ExecuteTime": {
     "start_time": "2023-04-12T22:25:32.274752Z",
     "end_time": "2023-04-12T22:25:33.930981Z"
    }
   }
  },
  {
   "cell_type": "code",
   "execution_count": 21,
   "outputs": [
    {
     "name": "stdout",
     "output_type": "stream",
     "text": [
      "The average training accuracy for the dataset:  0.4536002193049939\n",
      "The average testing accuracy:  0.45356972207730417\n",
      "Error: 9.328524767313537\n",
      "Actual End-effector Position: [-3.303024370493989, 9.99702014695617]\n"
     ]
    },
    {
     "name": "stderr",
     "output_type": "stream",
     "text": [
      "/Users/toluwanimi/PycharmProjects/final-course-work/venv/lib/python3.10/site-packages/sklearn/neural_network/_multilayer_perceptron.py:686: ConvergenceWarning: Stochastic Optimizer: Maximum iterations (400) reached and the optimization hasn't converged yet.\n",
      "  warnings.warn(\n"
     ]
    }
   ],
   "source": [
    "# Tenth Example\n",
    "hidden_layers = (200,200,200)\n",
    "max_iter = 400\n",
    "activation_func = \"logistic\"\n",
    "solver_algo = \"sgd\"\n",
    "learning_rate = \"adaptive\"\n",
    "stop_condition = True\n",
    "ann = MLPRegressor(hidden_layer_sizes=hidden_layers,\n",
    "                   max_iter=max_iter,\n",
    "                   activation=activation_func,\n",
    "                   solver=solver_algo,\n",
    "                   learning_rate=learning_rate,\n",
    "                   early_stopping=stop_condition)\n",
    "n_train = 1000\n",
    "n_test = 100\n",
    "j1_range = (0, np.pi / 2)\n",
    "j2_range = (0, np.pi)\n",
    "a.create_data(ann, n_train, n_test, j1_range, j2_range)\n",
    "accuracy = a.train_inv_kin()\n",
    "test_accuracy = a.test_inv_kin()\n",
    "print(\"The average training accuracy for the dataset: \", accuracy)\n",
    "print(\"The average testing accuracy: \", test_accuracy)\n",
    "cartesian_target = [1.5, 2.0]  #  target position\n",
    "\n",
    "# Call the inv_kin() function with the Cartesian target position\n",
    "err, actual_end_effector_position = a.inv_kin(cartesian_target)\n",
    "# Print the calculated error and actual end-effector position\n",
    "print(\"Error:\", err)\n",
    "print(\"Actual End-effector Position:\", actual_end_effector_position)\n",
    "df = update_dataframe(df, hidden_layers, learning_rate, 'MLP', n_train, n_test, j1_range,\n",
    "                      j2_range,\n",
    "                      max_iter, activation_func, solver_algo, accuracy, test_accuracy, err,\n",
    "                      actual_end_effector_position)"
   ],
   "metadata": {
    "collapsed": false,
    "ExecuteTime": {
     "start_time": "2023-04-12T22:25:34.904858Z",
     "end_time": "2023-04-12T22:25:47.089359Z"
    }
   }
  },
  {
   "cell_type": "code",
   "execution_count": null,
   "outputs": [],
   "source": [
    "df.describe()"
   ],
   "metadata": {
    "collapsed": false,
    "ExecuteTime": {
     "start_time": "2023-04-12T22:25:49.417595Z",
     "end_time": "2023-04-12T22:25:49.435626Z"
    }
   }
  },
  {
   "cell_type": "code",
   "execution_count": 28,
   "outputs": [
    {
     "data": {
      "text/plain": "<Figure size 640x480 with 1 Axes>",
      "image/png": "[encoded data removed]"
     },
     "metadata": {},
     "output_type": "display_data"
    }
   ],
   "source": [
    "# Extract the 'Joint range X' and 'Joint range Y' columns\n",
    "x = df['Error']\n",
    "y = df['Accuracy']\n",
    "\n",
    "# Create a scatter plot\n",
    "plt.scatter(x, y)\n",
    "plt.xlabel('Error')\n",
    "plt.ylabel('Accuracy')\n",
    "plt.title('Scatter Plot of Error vs Accuracy ')\n",
    "plt.show()"
   ],
   "metadata": {
    "collapsed": false,
    "ExecuteTime": {
     "start_time": "2023-04-12T22:35:13.012105Z",
     "end_time": "2023-04-12T22:35:13.087718Z"
    }
   }
  },
  {
   "cell_type": "code",
   "execution_count": 30,
   "outputs": [
    {
     "data": {
      "text/plain": "<Figure size 640x480 with 1 Axes>",
      "image/png": "[encoded data removed]"
     },
     "metadata": {},
     "output_type": "display_data"
    }
   ],
   "source": [
    "# Extract the 'Joint range X' and 'Joint range Y' columns\n",
    "x = df['Error']\n",
    "y = df['Accuracy']\n",
    "\n",
    "# Create a scatter plot\n",
    "plt.bar(x, y)\n",
    "plt.xlabel('Error')\n",
    "plt.ylabel('Accuracy')\n",
    "plt.title('Scatter Plot of Accuracy vs Error')\n",
    "plt.show()"
   ],
   "metadata": {
    "collapsed": false,
    "ExecuteTime": {
     "start_time": "2023-04-12T22:35:28.155046Z",
     "end_time": "2023-04-12T22:35:28.208230Z"
    }
   }
  },
  {
   "cell_type": "code",
   "execution_count": 35,
   "outputs": [
    {
     "data": {
      "text/plain": "<Figure size 640x480 with 1 Axes>",
      "image/png": "[encoded data removed]"
     },
     "metadata": {},
     "output_type": "display_data"
    }
   ],
   "source": [
    "# Extract the 'Joint range X' and 'Joint range Y' columns\n",
    "x = df['Activation']\n",
    "y = df['Accuracy']\n",
    "\n",
    "# Create a scatter plot\n",
    "plt.bar(x,np.sort(y))\n",
    "plt.xlabel('Activation')\n",
    "plt.ylabel('Accuracy')\n",
    "plt.title('Scatter Plot of Accuracy vs Activation')\n",
    "plt.show()"
   ],
   "metadata": {
    "collapsed": false,
    "ExecuteTime": {
     "start_time": "2023-04-12T22:37:02.430457Z",
     "end_time": "2023-04-12T22:37:02.497110Z"
    }
   }
  },
  {
   "cell_type": "code",
   "execution_count": 40,
   "outputs": [
    {
     "data": {
      "text/plain": "<Figure size 640x480 with 1 Axes>",
      "image/png": "[encoded data removed]"
     },
     "metadata": {},
     "output_type": "display_data"
    }
   ],
   "source": [
    "# Extract the 'Joint range X' and 'Joint range Y' columns\n",
    "x = df['Learning Rate']\n",
    "y = df['Accuracy']\n",
    "\n",
    "# Create a scatter plot\n",
    "plt.bar(x, y)\n",
    "plt.xlabel('Learning Rate')\n",
    "plt.ylabel('Accuracy')\n",
    "plt.title('Scatter Plot of Accuracy vs Learning Rate')\n",
    "plt.show()"
   ],
   "metadata": {
    "collapsed": false,
    "ExecuteTime": {
     "start_time": "2023-04-12T22:37:56.672662Z",
     "end_time": "2023-04-12T22:37:56.742261Z"
    }
   }
  },
  {
   "cell_type": "code",
   "execution_count": 41,
   "outputs": [
    {
     "data": {
      "text/plain": "<Figure size 640x480 with 1 Axes>",
      "image/png": "[encoded data removed]"
     },
     "metadata": {},
     "output_type": "display_data"
    }
   ],
   "source": [
    "# Extract the 'Joint range X' and 'Joint range Y' columns\n",
    "x = df['Solver']\n",
    "y = df['Accuracy']\n",
    "\n",
    "# Create a scatter plot\n",
    "plt.bar(x, y)\n",
    "plt.xlabel('Solver')\n",
    "plt.ylabel('Accuracy')\n",
    "plt.title('Scatter Plot of Accuracy vs Solver')\n",
    "plt.show()"
   ],
   "metadata": {
    "collapsed": false,
    "ExecuteTime": {
     "start_time": "2023-04-12T22:38:00.505723Z",
     "end_time": "2023-04-12T22:38:00.577717Z"
    }
   }
  },
  {
   "cell_type": "code",
   "execution_count": 44,
   "outputs": [
    {
     "data": {
      "text/plain": "<Figure size 640x480 with 1 Axes>",
      "image/png": "[encoded data removed]"
     },
     "metadata": {},
     "output_type": "display_data"
    }
   ],
   "source": [
    "# Extract the 'Joint range X' and 'Joint range Y' columns\n",
    "x = df['Number of Dataset']\n",
    "y = df['Accuracy']\n",
    "\n",
    "# Create a scatter plot\n",
    "plt.scatter(x, y)\n",
    "plt.xlabel('Number of Dataset')\n",
    "plt.ylabel('Accuracy')\n",
    "plt.title('Scatter Plot of Accuracy vs Number of Dataset')\n",
    "plt.show()"
   ],
   "metadata": {
    "collapsed": false,
    "ExecuteTime": {
     "start_time": "2023-04-12T22:38:59.168672Z",
     "end_time": "2023-04-12T22:38:59.230941Z"
    }
   }
  },
  {
   "cell_type": "markdown",
   "source": [
    "B.Change the quantity of training data, and the joint ranges: how does that affect accuracy?\n"
   ],
   "metadata": {
    "collapsed": false
   }
  },
  {
   "cell_type": "code",
   "execution_count": 47,
   "outputs": [
    {
     "name": "stdout",
     "output_type": "stream",
     "text": [
      "The average training accuracy for the dataset:  0.5442232864541614\n",
      "The average testing accuracy:  0.4901433636924596\n",
      "Error: 17.11289412966395\n",
      "Actual End-effector Position: [18.431496504422704, 4.48506974023036]\n"
     ]
    }
   ],
   "source": [
    "# Example\n",
    "hidden_layers = (50,)\n",
    "max_iter = 200\n",
    "activation_func = \"identity\"\n",
    "solver_algo = \"adam\"\n",
    "learning_rate = \"invscaling\"\n",
    "stop_condition = False\n",
    "ann = MLPRegressor(hidden_layer_sizes=hidden_layers,\n",
    "                   max_iter=max_iter,\n",
    "                   activation=activation_func,\n",
    "                   solver=solver_algo,\n",
    "                   learning_rate=learning_rate,\n",
    "                   early_stopping=stop_condition)\n",
    "n_train = 1200\n",
    "n_test = 110\n",
    "j1_range = (0, deg2rad(30))\n",
    "j2_range = (0, deg2rad(45))\n",
    "a.create_data(ann, n_train, n_test, j1_range, j2_range)\n",
    "accuracy = a.train_inv_kin()\n",
    "test_accuracy = a.test_inv_kin()\n",
    "print(\"The average training accuracy for the dataset: \", accuracy)\n",
    "print(\"The average testing accuracy: \", test_accuracy)\n",
    "cartesian_target = [1.5, 2.0]  #  target position\n",
    "\n",
    "# Call the inv_kin() function with the Cartesian target position\n",
    "err, actual_end_effector_position = a.inv_kin(cartesian_target)\n",
    "# Print the calculated error and actual end-effector position\n",
    "print(\"Error:\", err)\n",
    "print(\"Actual End-effector Position:\", actual_end_effector_position)\n",
    "df = update_dataframe(df, hidden_layers, learning_rate, 'MLP', n_train, n_test, j1_range,\n",
    "                      j2_range,\n",
    "                      max_iter, activation_func, solver_algo, accuracy, test_accuracy, err,\n",
    "                      actual_end_effector_position)"
   ],
   "metadata": {
    "collapsed": false,
    "ExecuteTime": {
     "start_time": "2023-04-12T22:40:50.243086Z",
     "end_time": "2023-04-12T22:40:50.279256Z"
    }
   }
  },
  {
   "cell_type": "code",
   "execution_count": 48,
   "outputs": [
    {
     "name": "stdout",
     "output_type": "stream",
     "text": [
      "The average training accuracy for the dataset:  0.949608342279061\n",
      "The average testing accuracy:  0.9484186129486929\n",
      "Error: 20.638919282691084\n",
      "Actual End-effector Position: [-13.505234804882647, -12.170671035902862]\n"
     ]
    },
    {
     "name": "stderr",
     "output_type": "stream",
     "text": [
      "/Users/toluwanimi/PycharmProjects/final-course-work/venv/lib/python3.10/site-packages/sklearn/neural_network/_multilayer_perceptron.py:686: ConvergenceWarning: Stochastic Optimizer: Maximum iterations (300) reached and the optimization hasn't converged yet.\n",
      "  warnings.warn(\n"
     ]
    }
   ],
   "source": [
    "# First Example\n",
    "hidden_layers = (200,)\n",
    "max_iter = 300\n",
    "activation_func = \"logistic\"\n",
    "solver_algo = \"adam\"\n",
    "learning_rate = \"adaptive\"\n",
    "stop_condition = True\n",
    "ann = MLPRegressor(hidden_layer_sizes=hidden_layers,\n",
    "                   max_iter=max_iter,\n",
    "                   activation=activation_func,\n",
    "                   solver=solver_algo,\n",
    "                   learning_rate=learning_rate,\n",
    "                   early_stopping=stop_condition)\n",
    "n_train = 2000\n",
    "n_test = 200\n",
    "j1_range = (0, deg2rad(45))\n",
    "j2_range = (0, deg2rad(60))\n",
    "a.create_data(ann, n_train, n_test, j1_range, j2_range)\n",
    "accuracy = a.train_inv_kin()\n",
    "test_accuracy = a.test_inv_kin()\n",
    "print(\"The average training accuracy for the dataset: \", accuracy)\n",
    "print(\"The average testing accuracy: \", test_accuracy)\n",
    "cartesian_target = [1.5, 2.0]  #  target position\n",
    "\n",
    "# Call the inv_kin() function with the Cartesian target position\n",
    "err, actual_end_effector_position = a.inv_kin(cartesian_target)\n",
    "# Print the calculated error and actual end-effector position\n",
    "print(\"Error:\", err)\n",
    "print(\"Actual End-effector Position:\", actual_end_effector_position)\n",
    "df = update_dataframe(df, hidden_layers, learning_rate, 'MLP', n_train, n_test, j1_range,\n",
    "                      j2_range,\n",
    "                      max_iter, activation_func, solver_algo, accuracy, test_accuracy, err,\n",
    "                      actual_end_effector_position)"
   ],
   "metadata": {
    "collapsed": false,
    "ExecuteTime": {
     "start_time": "2023-04-12T22:40:51.258168Z",
     "end_time": "2023-04-12T22:40:52.547256Z"
    }
   }
  },
  {
   "cell_type": "code",
   "execution_count": 49,
   "outputs": [
    {
     "name": "stdout",
     "output_type": "stream",
     "text": [
      "The average training accuracy for the dataset:  0.9609798318254961\n",
      "The average testing accuracy:  0.9592205748824825\n",
      "Error: 11.616937315474743\n",
      "Actual End-effector Position: [-7.385045380936378, -5.483929527351969]\n"
     ]
    }
   ],
   "source": [
    "# First Example\n",
    "hidden_layers = (100,50)\n",
    "max_iter = 400\n",
    "activation_func = \"tanh\"\n",
    "solver_algo = \"adam\"\n",
    "learning_rate = \"adaptive\"\n",
    "stop_condition = True\n",
    "ann = MLPRegressor(hidden_layer_sizes=hidden_layers,\n",
    "                   max_iter=max_iter,\n",
    "                   activation=activation_func,\n",
    "                   solver=solver_algo,\n",
    "                   learning_rate=learning_rate,\n",
    "                   early_stopping=stop_condition)\n",
    "n_train = 3000\n",
    "n_test = 300\n",
    "j1_range = (0, deg2rad(60))\n",
    "j2_range = (0, deg2rad(70))\n",
    "a.create_data(ann, n_train, n_test, j1_range, j2_range)\n",
    "accuracy = a.train_inv_kin()\n",
    "test_accuracy = a.test_inv_kin()\n",
    "print(\"The average training accuracy for the dataset: \", accuracy)\n",
    "print(\"The average testing accuracy: \", test_accuracy)\n",
    "cartesian_target = [1.5, 2.0]  #  target position\n",
    "\n",
    "# Call the inv_kin() function with the Cartesian target position\n",
    "err, actual_end_effector_position = a.inv_kin(cartesian_target)\n",
    "# Print the calculated error and actual end-effector position\n",
    "print(\"Error:\", err)\n",
    "print(\"Actual End-effector Position:\", actual_end_effector_position)\n",
    "df = update_dataframe(df, hidden_layers, learning_rate, 'MLP', n_train, n_test, j1_range,\n",
    "                      j2_range,\n",
    "                      max_iter, activation_func, solver_algo, accuracy, test_accuracy, err,\n",
    "                      actual_end_effector_position)"
   ],
   "metadata": {
    "collapsed": false,
    "ExecuteTime": {
     "start_time": "2023-04-12T22:40:52.577051Z",
     "end_time": "2023-04-12T22:40:57.670477Z"
    }
   }
  },
  {
   "cell_type": "code",
   "execution_count": 58,
   "outputs": [
    {
     "name": "stdout",
     "output_type": "stream",
     "text": [
      "The average training accuracy for the dataset:  0.5107810898068708\n",
      "The average testing accuracy:  0.5300720118436855\n",
      "Error: 16.069564390486203\n",
      "Actual End-effector Position: [14.715841284185966, 11.14179625955359]\n"
     ]
    }
   ],
   "source": [
    "# Example\n",
    "hidden_layers = (50,50)\n",
    "max_iter = 400\n",
    "activation_func = \"identity\"\n",
    "solver_algo = \"sgd\"\n",
    "learning_rate = \"adaptive\"\n",
    "stop_condition = False\n",
    "ann = MLPRegressor(hidden_layer_sizes=hidden_layers,\n",
    "                   max_iter=max_iter,\n",
    "                   activation=activation_func,\n",
    "                   solver=solver_algo,\n",
    "                   learning_rate=learning_rate,\n",
    "                   early_stopping=stop_condition)\n",
    "n_train = 1000\n",
    "n_test = 300\n",
    "j1_range = (0, deg2rad(35))\n",
    "j2_range = (0, deg2rad(90))\n",
    "a.create_data(ann, n_train, n_test, j1_range, j2_range)\n",
    "accuracy = a.train_inv_kin()\n",
    "test_accuracy = a.test_inv_kin()\n",
    "print(\"The average training accuracy for the dataset: \", accuracy)\n",
    "print(\"The average testing accuracy: \", test_accuracy)\n",
    "cartesian_target = [1.5, 2.0]  #  target position\n",
    "\n",
    "# Call the inv_kin() function with the Cartesian target position\n",
    "err, actual_end_effector_position = a.inv_kin(cartesian_target)\n",
    "# Print the calculated error and actual end-effector position\n",
    "print(\"Error:\", err)\n",
    "print(\"Actual End-effector Position:\", actual_end_effector_position)\n",
    "df = update_dataframe(df, hidden_layers, learning_rate, 'MLP', n_train, n_test, j1_range,\n",
    "                      j2_range,\n",
    "                      max_iter, activation_func, solver_algo, accuracy, test_accuracy, err,\n",
    "                      actual_end_effector_position)"
   ],
   "metadata": {
    "collapsed": false,
    "ExecuteTime": {
     "start_time": "2023-04-12T22:43:30.325975Z",
     "end_time": "2023-04-12T22:43:33.009440Z"
    }
   }
  },
  {
   "cell_type": "code",
   "execution_count": 59,
   "outputs": [
    {
     "name": "stdout",
     "output_type": "stream",
     "text": [
      "The average training accuracy for the dataset:  0.8274098998244865\n",
      "The average testing accuracy:  0.82431310737901\n",
      "Error: 4.967321630253436\n",
      "Actual End-effector Position: [0.834670439593749, 6.922562417525377]\n"
     ]
    },
    {
     "name": "stderr",
     "output_type": "stream",
     "text": [
      "/Users/toluwanimi/PycharmProjects/final-course-work/venv/lib/python3.10/site-packages/sklearn/neural_network/_multilayer_perceptron.py:686: ConvergenceWarning: Stochastic Optimizer: Maximum iterations (350) reached and the optimization hasn't converged yet.\n",
      "  warnings.warn(\n"
     ]
    }
   ],
   "source": [
    "# Example\n",
    "hidden_layers = (150,60)\n",
    "max_iter = 350\n",
    "activation_func = \"logistic\"\n",
    "solver_algo = \"sgd\"\n",
    "learning_rate = \"adaptive\"\n",
    "stop_condition = False\n",
    "ann = MLPRegressor(hidden_layer_sizes=hidden_layers,\n",
    "                   max_iter=max_iter,\n",
    "                   activation=activation_func,\n",
    "                   solver=solver_algo,\n",
    "                   learning_rate=learning_rate,\n",
    "                   early_stopping=stop_condition)\n",
    "n_train = 5000\n",
    "n_test = 500\n",
    "j1_range = (0, deg2rad(90))\n",
    "j2_range = (0, deg2rad(120))\n",
    "a.create_data(ann, n_train, n_test, j1_range, j2_range)\n",
    "accuracy = a.train_inv_kin()\n",
    "test_accuracy = a.test_inv_kin()\n",
    "print(\"The average training accuracy for the dataset: \", accuracy)\n",
    "print(\"The average testing accuracy: \", test_accuracy)\n",
    "cartesian_target = [1.5, 2.0]  #  target position\n",
    "\n",
    "# Call the inv_kin() function with the Cartesian target position\n",
    "err, actual_end_effector_position = a.inv_kin(cartesian_target)\n",
    "# Print the calculated error and actual end-effector position\n",
    "print(\"Error:\", err)\n",
    "print(\"Actual End-effector Position:\", actual_end_effector_position)\n",
    "df = update_dataframe(df, hidden_layers, learning_rate, 'MLP', n_train, n_test, j1_range,\n",
    "                      j2_range,\n",
    "                      max_iter, activation_func, solver_algo, accuracy, test_accuracy, err,\n",
    "                      actual_end_effector_position)"
   ],
   "metadata": {
    "collapsed": false,
    "ExecuteTime": {
     "start_time": "2023-04-12T22:43:35.482178Z",
     "end_time": "2023-04-12T22:43:52.886261Z"
    }
   }
  },
  {
   "cell_type": "code",
   "execution_count": 60,
   "outputs": [
    {
     "name": "stdout",
     "output_type": "stream",
     "text": [
      "The average training accuracy for the dataset:  0.6516624274350735\n",
      "The average testing accuracy:  0.6642993284770939\n",
      "Error: 8.055306450404732\n",
      "Actual End-effector Position: [0.36730323973411316, 9.975271785915215]\n"
     ]
    }
   ],
   "source": [
    "# First Example\n",
    "hidden_layers = (300,450)\n",
    "max_iter = 600\n",
    "activation_func = \"logistic\"\n",
    "solver_algo = \"sgd\"\n",
    "learning_rate = \"adaptive\"\n",
    "stop_condition = False\n",
    "ann = MLPRegressor(hidden_layer_sizes=hidden_layers,\n",
    "                   max_iter=max_iter,\n",
    "                   activation=activation_func,\n",
    "                   solver=solver_algo,\n",
    "                   learning_rate=learning_rate,\n",
    "                   early_stopping=stop_condition)\n",
    "n_train = 6000\n",
    "n_test = 600\n",
    "j1_range = (0, deg2rad(90))\n",
    "j2_range = (0, deg2rad(120))\n",
    "a.create_data(ann, n_train, n_test, j1_range, j2_range)\n",
    "accuracy = a.train_inv_kin()\n",
    "test_accuracy = a.test_inv_kin()\n",
    "print(\"The average training accuracy for the dataset: \", accuracy)\n",
    "print(\"The average testing accuracy: \", test_accuracy)\n",
    "cartesian_target = [1.5, 2.0]  #  target position\n",
    "\n",
    "# Call the inv_kin() function with the Cartesian target position\n",
    "err, actual_end_effector_position = a.inv_kin(cartesian_target)\n",
    "# Print the calculated error and actual end-effector position\n",
    "print(\"Error:\", err)\n",
    "print(\"Actual End-effector Position:\", actual_end_effector_position)\n",
    "df = update_dataframe(df, hidden_layers, learning_rate, 'MLP', n_train, n_test, j1_range,\n",
    "                      j2_range,\n",
    "                      max_iter, activation_func, solver_algo, accuracy, test_accuracy, err,\n",
    "                      actual_end_effector_position)"
   ],
   "metadata": {
    "collapsed": false,
    "ExecuteTime": {
     "start_time": "2023-04-12T22:43:58.499679Z",
     "end_time": "2023-04-12T22:44:50.264748Z"
    }
   }
  },
  {
   "cell_type": "code",
   "execution_count": 61,
   "outputs": [
    {
     "name": "stdout",
     "output_type": "stream",
     "text": [
      "The average training accuracy for the dataset:  0.8025260470639783\n",
      "The average testing accuracy:  0.8023148957354395\n",
      "Error: 15.340375315781088\n",
      "Actual End-effector Position: [15.25778776008858, 8.786043823715154]\n"
     ]
    }
   ],
   "source": [
    "# First Example\n",
    "hidden_layers = (600,300)\n",
    "max_iter = 600\n",
    "activation_func = \"tanh\"\n",
    "solver_algo = \"sgd\"\n",
    "learning_rate = \"invscaling\"\n",
    "stop_condition = False\n",
    "\n",
    "ann = MLPRegressor(hidden_layer_sizes=hidden_layers,\n",
    "                   max_iter=max_iter,\n",
    "                   activation=activation_func,\n",
    "                   solver=solver_algo,\n",
    "                   learning_rate=learning_rate,\n",
    "                   early_stopping=stop_condition)\n",
    "n_train = 7000\n",
    "n_test = 700\n",
    "j1_range = (0, deg2rad(120))\n",
    "j2_range = (0, deg2rad(150))\n",
    "a.create_data(ann, n_train, n_test, j1_range, j2_range)\n",
    "accuracy = a.train_inv_kin()\n",
    "test_accuracy = a.test_inv_kin()\n",
    "print(\"The average training accuracy for the dataset: \", accuracy)\n",
    "print(\"The average testing accuracy: \", test_accuracy)\n",
    "cartesian_target = [1.5, 2.0]  #  target position\n",
    "\n",
    "# Call the inv_kin() function with the Cartesian target position\n",
    "err, actual_end_effector_position = a.inv_kin(cartesian_target)\n",
    "# Print the calculated error and actual end-effector position\n",
    "print(\"Error:\", err)\n",
    "print(\"Actual End-effector Position:\", actual_end_effector_position)\n",
    "df = update_dataframe(df, hidden_layers, learning_rate, 'MLP', n_train, n_test, j1_range,\n",
    "                      j2_range,\n",
    "                      max_iter, activation_func, solver_algo, accuracy, test_accuracy, err,\n",
    "                      actual_end_effector_position)"
   ],
   "metadata": {
    "collapsed": false,
    "ExecuteTime": {
     "start_time": "2023-04-12T22:44:53.485608Z",
     "end_time": "2023-04-12T22:45:09.184757Z"
    }
   }
  },
  {
   "cell_type": "code",
   "execution_count": 68,
   "outputs": [
    {
     "name": "stdout",
     "output_type": "stream",
     "text": [
      "The average training accuracy for the dataset:  0.51060733008288\n",
      "The average testing accuracy:  0.5526843809821492\n",
      "Error: 17.884325357385222\n",
      "Actual End-effector Position: [19.29254149575481, 3.809574704358813]\n"
     ]
    }
   ],
   "source": [
    "# First Example\n",
    "hidden_layers = (50,)\n",
    "max_iter = 450\n",
    "activation_func = \"identity\"\n",
    "solver_algo = \"sgd\"\n",
    "learning_rate = \"constant\"\n",
    "stop_condition = True\n",
    "ann = MLPRegressor(hidden_layer_sizes=hidden_layers,\n",
    "                   max_iter=max_iter,\n",
    "                   activation=activation_func,\n",
    "                   solver=solver_algo,\n",
    "                   learning_rate=learning_rate,\n",
    "                   early_stopping=stop_condition)\n",
    "n_train = 5000\n",
    "n_test = 100\n",
    "j1_range = (0, deg2rad(30))\n",
    "j2_range = (0, deg2rad(60))\n",
    "a.create_data(ann, n_train, n_test, j1_range, j2_range)\n",
    "accuracy = a.train_inv_kin()\n",
    "test_accuracy = a.test_inv_kin()\n",
    "print(\"The average training accuracy for the dataset: \", accuracy)\n",
    "print(\"The average testing accuracy: \", test_accuracy)\n",
    "cartesian_target = [1.5, 2.0]  #  target position\n",
    "\n",
    "# Call the inv_kin() function with the Cartesian target position\n",
    "err, actual_end_effector_position = a.inv_kin(cartesian_target)\n",
    "# Print the calculated error and actual end-effector position\n",
    "print(\"Error:\", err)\n",
    "print(\"Actual End-effector Position:\", actual_end_effector_position)\n",
    "df = update_dataframe(df, hidden_layers, learning_rate, 'MLP', n_train, n_test, j1_range,\n",
    "                      j2_range,\n",
    "                      max_iter, activation_func, solver_algo, accuracy, test_accuracy, err,\n",
    "                      actual_end_effector_position)"
   ],
   "metadata": {
    "collapsed": false,
    "ExecuteTime": {
     "start_time": "2023-04-12T22:46:46.191209Z",
     "end_time": "2023-04-12T22:46:46.462629Z"
    }
   }
  },
  {
   "cell_type": "code",
   "execution_count": 69,
   "outputs": [
    {
     "name": "stdout",
     "output_type": "stream",
     "text": [
      "The average training accuracy for the dataset:  0.4855278723427015\n",
      "The average testing accuracy:  0.4896270585714523\n",
      "Error: 15.523348539752275\n",
      "Actual End-effector Position: [9.059488384605444, 15.558336374704844]\n"
     ]
    }
   ],
   "source": [
    "# First Example\n",
    "hidden_layers = (200,200,200)\n",
    "max_iter = 400\n",
    "activation_func = \"logistic\"\n",
    "solver_algo = \"sgd\"\n",
    "learning_rate = \"adaptive\"\n",
    "stop_condition = False\n",
    "ann = MLPRegressor(hidden_layer_sizes=hidden_layers,\n",
    "                   max_iter=max_iter,\n",
    "                   activation=activation_func,\n",
    "                   solver=solver_algo,\n",
    "                   learning_rate=learning_rate,\n",
    "                   early_stopping=stop_condition)\n",
    "n_train = 10000\n",
    "n_test = 1000\n",
    "j1_range = (0, deg2rad(60))\n",
    "j2_range = (0, deg2rad(90))\n",
    "a.create_data(ann, n_train, n_test, j1_range, j2_range)\n",
    "accuracy = a.train_inv_kin()\n",
    "test_accuracy = a.test_inv_kin()\n",
    "print(\"The average training accuracy for the dataset: \", accuracy)\n",
    "print(\"The average testing accuracy: \", test_accuracy)\n",
    "cartesian_target = [1.5, 2.0]  #  target position\n",
    "\n",
    "# Call the inv_kin() function with the Cartesian target position\n",
    "err, actual_end_effector_position = a.inv_kin(cartesian_target)\n",
    "# Print the calculated error and actual end-effector position\n",
    "print(\"Error:\", err)\n",
    "print(\"Actual End-effector Position:\", actual_end_effector_position)\n",
    "df = update_dataframe(df, hidden_layers, learning_rate, 'MLP', n_train, n_test, j1_range,\n",
    "                      j2_range,\n",
    "                      max_iter, activation_func, solver_algo, accuracy, test_accuracy, err,\n",
    "                      actual_end_effector_position)"
   ],
   "metadata": {
    "collapsed": false,
    "ExecuteTime": {
     "start_time": "2023-04-12T22:46:49.098929Z",
     "end_time": "2023-04-12T22:47:40.281608Z"
    }
   }
  },
  {
   "cell_type": "code",
   "execution_count": 70,
   "outputs": [
    {
     "name": "stdout",
     "output_type": "stream",
     "text": [
      "The average training accuracy for the dataset:  0.9892234487494646\n",
      "The average testing accuracy:  0.9889882418219917\n",
      "Error: 6.942673962791217\n",
      "Actual End-effector Position: [2.5835182250474054, 8.857602351376844]\n"
     ]
    }
   ],
   "source": [
    "# First Example\n",
    "hidden_layers = (150,250,100)\n",
    "max_iter = 250\n",
    "activation_func = \"logistic\"\n",
    "solver_algo = \"adam\"\n",
    "learning_rate = \"invscaling\"\n",
    "stop_condition = False\n",
    "ann = MLPRegressor(hidden_layer_sizes=hidden_layers,\n",
    "                   max_iter=max_iter,\n",
    "                   activation=activation_func,\n",
    "                   solver=solver_algo,\n",
    "                   learning_rate=learning_rate,\n",
    "                   early_stopping=stop_condition)\n",
    "n_train = 20000\n",
    "n_test = 2500\n",
    "j1_range = (0, deg2rad(60))\n",
    "j2_range = (0, deg2rad(90))\n",
    "a.create_data(ann, n_train, n_test, j1_range, j2_range)\n",
    "accuracy = a.train_inv_kin()\n",
    "test_accuracy = a.test_inv_kin()\n",
    "print(\"The average training accuracy for the dataset: \", accuracy)\n",
    "print(\"The average testing accuracy: \", test_accuracy)\n",
    "cartesian_target = [1.5, 2.0]  #  target position\n",
    "\n",
    "# Call the inv_kin() function with the Cartesian target position\n",
    "err, actual_end_effector_position = a.inv_kin(cartesian_target)\n",
    "# Print the calculated error and actual end-effector position\n",
    "print(\"Error:\", err)\n",
    "print(\"Actual End-effector Position:\", actual_end_effector_position)\n",
    "df = update_dataframe(df, hidden_layers, learning_rate, 'MLP', n_train, n_test, j1_range,\n",
    "                      j2_range,\n",
    "                      max_iter, activation_func, solver_algo, accuracy, test_accuracy, err,\n",
    "                      actual_end_effector_position)"
   ],
   "metadata": {
    "collapsed": false,
    "ExecuteTime": {
     "start_time": "2023-04-12T22:47:47.262259Z",
     "end_time": "2023-04-12T22:48:06.454714Z"
    }
   }
  },
  {
   "cell_type": "code",
   "execution_count": 71,
   "outputs": [
    {
     "name": "stdout",
     "output_type": "stream",
     "text": [
      "The average training accuracy for the dataset:  0.9844629822638717\n",
      "The average testing accuracy:  0.9829023645527559\n",
      "Error: 0.34077737022163995\n",
      "Actual End-effector Position: [1.2675938938607096, 2.2492320562936268]\n"
     ]
    }
   ],
   "source": [
    "# First Example\n",
    "hidden_layers = (100,50)\n",
    "max_iter = 300\n",
    "activation_func = \"tanh\"\n",
    "solver_algo = \"adam\"\n",
    "learning_rate = \"adaptive\"\n",
    "stop_condition = False\n",
    "ann = MLPRegressor(hidden_layer_sizes=hidden_layers,\n",
    "                   max_iter=max_iter,\n",
    "                   activation=activation_func,\n",
    "                   solver=solver_algo,\n",
    "                   learning_rate=learning_rate,\n",
    "                   early_stopping=stop_condition)\n",
    "n_train = 3500\n",
    "n_test = 3000\n",
    "j1_range = (0, deg2rad(90))\n",
    "j2_range = (0, deg2rad(180))\n",
    "a.create_data(ann, n_train, n_test, j1_range, j2_range)\n",
    "accuracy = a.train_inv_kin()\n",
    "test_accuracy = a.test_inv_kin()\n",
    "print(\"The average training accuracy for the dataset: \", accuracy)\n",
    "print(\"The average testing accuracy: \", test_accuracy)\n",
    "cartesian_target = [1.5, 2.0]  #  target position\n",
    "\n",
    "# Call the inv_kin() function with the Cartesian target position\n",
    "err, actual_end_effector_position = a.inv_kin(cartesian_target)\n",
    "# Print the calculated error and actual end-effector position\n",
    "print(\"Error:\", err)\n",
    "print(\"Actual End-effector Position:\", actual_end_effector_position)\n",
    "df = update_dataframe(df, hidden_layers, learning_rate, 'MLP', n_train, n_test, j1_range,\n",
    "                      j2_range,\n",
    "                      max_iter, activation_func, solver_algo, accuracy, test_accuracy, err,\n",
    "                      actual_end_effector_position)"
   ],
   "metadata": {
    "collapsed": false,
    "ExecuteTime": {
     "start_time": "2023-04-12T22:48:19.825830Z",
     "end_time": "2023-04-12T22:48:21.833716Z"
    }
   }
  },
  {
   "cell_type": "code",
   "execution_count": 72,
   "outputs": [
    {
     "name": "stdout",
     "output_type": "stream",
     "text": [
      "The average training accuracy for the dataset:  0.9873402138001093\n",
      "The average testing accuracy:  0.990993209347175\n",
      "Error: 2.1339842228575088\n",
      "Actual End-effector Position: [0.09199422784736555, 0.39643883528266066]\n"
     ]
    }
   ],
   "source": [
    "# First Example\n",
    "hidden_layers = (50,50,50)\n",
    "max_iter = 400\n",
    "activation_func = \"relu\"\n",
    "solver_algo = \"sgd\"\n",
    "learning_rate = \"constant\"\n",
    "stop_condition = True\n",
    "ann = MLPRegressor(hidden_layer_sizes=hidden_layers,\n",
    "                   max_iter=max_iter,\n",
    "                   activation=activation_func,\n",
    "                   solver=solver_algo,\n",
    "                   learning_rate=learning_rate,\n",
    "                   early_stopping=stop_condition)\n",
    "n_train = 12000\n",
    "n_test = 1200\n",
    "j1_range = (0, deg2rad(90))\n",
    "j2_range = (0, deg2rad(180))\n",
    "a.create_data(ann, n_train, n_test, j1_range, j2_range)\n",
    "accuracy = a.train_inv_kin()\n",
    "test_accuracy = a.test_inv_kin()\n",
    "print(\"The average training accuracy for the dataset: \", accuracy)\n",
    "print(\"The average testing accuracy: \", test_accuracy)\n",
    "cartesian_target = [1.5, 2.0]  #  target position\n",
    "\n",
    "# Call the inv_kin() function with the Cartesian target position\n",
    "err, actual_end_effector_position = a.inv_kin(cartesian_target)\n",
    "# Print the calculated error and actual end-effector position\n",
    "print(\"Error:\", err)\n",
    "print(\"Actual End-effector Position:\", actual_end_effector_position)\n",
    "df = update_dataframe(df, hidden_layers, learning_rate, 'MLP', n_train, n_test, j1_range,\n",
    "                      j2_range,\n",
    "                      max_iter, activation_func, solver_algo, accuracy, test_accuracy, err,\n",
    "                      actual_end_effector_position)"
   ],
   "metadata": {
    "collapsed": false,
    "ExecuteTime": {
     "start_time": "2023-04-12T22:48:25.304544Z",
     "end_time": "2023-04-12T22:48:41.021973Z"
    }
   }
  },
  {
   "cell_type": "code",
   "execution_count": 73,
   "outputs": [
    {
     "name": "stdout",
     "output_type": "stream",
     "text": [
      "The average training accuracy for the dataset:  0.9645556880935344\n",
      "The average testing accuracy:  0.965669426355652\n",
      "Error: 1.2865169851040763\n",
      "Actual End-effector Position: [0.21644459562030605, 2.0872437782822484]\n"
     ]
    }
   ],
   "source": [
    "# First Example\n",
    "hidden_layers = (120,350,200)\n",
    "max_iter = 300\n",
    "activation_func = \"relu\"\n",
    "solver_algo = \"sgd\"\n",
    "learning_rate = \"adaptive\"\n",
    "stop_condition = False\n",
    "ann = MLPRegressor(hidden_layer_sizes=hidden_layers,\n",
    "                   max_iter=max_iter,\n",
    "                   activation=activation_func,\n",
    "                   solver=solver_algo,\n",
    "                   learning_rate=learning_rate,\n",
    "                   early_stopping=stop_condition)\n",
    "n_train = 2030\n",
    "n_test = 350\n",
    "j1_range = (0, deg2rad(90))\n",
    "j2_range = (0, deg2rad(180))\n",
    "a.create_data(ann, n_train, n_test, j1_range, j2_range)\n",
    "accuracy = a.train_inv_kin()\n",
    "test_accuracy = a.test_inv_kin()\n",
    "print(\"The average training accuracy for the dataset: \", accuracy)\n",
    "print(\"The average testing accuracy: \", test_accuracy)\n",
    "cartesian_target = [1.5, 2.0]  #  target position\n",
    "\n",
    "# Call the inv_kin() function with the Cartesian target position\n",
    "err, actual_end_effector_position = a.inv_kin(cartesian_target)\n",
    "# Print the calculated error and actual end-effector position\n",
    "print(\"Error:\", err)\n",
    "print(\"Actual End-effector Position:\", actual_end_effector_position)\n",
    "df = update_dataframe(df, hidden_layers, learning_rate, 'MLP', n_train, n_test, j1_range,\n",
    "                      j2_range,\n",
    "                      max_iter, activation_func, solver_algo, accuracy, test_accuracy, err,\n",
    "                      actual_end_effector_position)"
   ],
   "metadata": {
    "collapsed": false,
    "ExecuteTime": {
     "start_time": "2023-04-12T22:48:44.499243Z",
     "end_time": "2023-04-12T22:48:56.951650Z"
    }
   }
  },
  {
   "cell_type": "code",
   "execution_count": 77,
   "outputs": [
    {
     "name": "stdout",
     "output_type": "stream",
     "text": [
      "The average training accuracy for the dataset:  0.7036475419813328\n",
      "The average testing accuracy:  0.6740421797746073\n",
      "Error: 4.435050705733557\n",
      "Actual End-effector Position: [-1.5853498352338988, 5.185952158562629]\n"
     ]
    }
   ],
   "source": [
    "# First Example\n",
    "hidden_layers = (200,100)\n",
    "max_iter = 500\n",
    "activation_func = \"identity\"\n",
    "solver_algo = \"sgd\"\n",
    "learning_rate = \"adaptive\"\n",
    "stop_condition = False\n",
    "\n",
    "ann = MLPRegressor(hidden_layer_sizes=hidden_layers,\n",
    "                   max_iter=max_iter,\n",
    "                   activation=activation_func,\n",
    "                   solver=solver_algo,\n",
    "                   learning_rate=learning_rate,\n",
    "                   early_stopping=stop_condition)\n",
    "n_train = 2000\n",
    "n_test = 300\n",
    "j1_range = (0, deg2rad(90))\n",
    "j2_range = (0, deg2rad(180))\n",
    "a.create_data(ann, n_train, n_test, j1_range, j2_range)\n",
    "accuracy = a.train_inv_kin()\n",
    "test_accuracy = a.test_inv_kin()\n",
    "print(\"The average training accuracy for the dataset: \", accuracy)\n",
    "print(\"The average testing accuracy: \", test_accuracy)\n",
    "cartesian_target = [1.5, 2.0]  #  target position\n",
    "\n",
    "# Call the inv_kin() function with the Cartesian target position\n",
    "err, actual_end_effector_position = a.inv_kin(cartesian_target)\n",
    "# Print the calculated error and actual end-effector position\n",
    "print(\"Error:\", err)\n",
    "print(\"Actual End-effector Position:\", actual_end_effector_position)\n",
    "df = update_dataframe(df, hidden_layers, learning_rate, 'MLP', n_train, n_test, j1_range,\n",
    "                      j2_range,\n",
    "                      max_iter, activation_func, solver_algo, accuracy, test_accuracy, err,\n",
    "                      actual_end_effector_position)"
   ],
   "metadata": {
    "collapsed": false,
    "ExecuteTime": {
     "start_time": "2023-04-12T22:49:28.786643Z",
     "end_time": "2023-04-12T22:49:32.603347Z"
    }
   }
  },
  {
   "cell_type": "code",
   "execution_count": 78,
   "outputs": [
    {
     "name": "stdout",
     "output_type": "stream",
     "text": [
      "(27, 14)\n"
     ]
    }
   ],
   "source": [
    "print(df.shape)"
   ],
   "metadata": {
    "collapsed": false,
    "ExecuteTime": {
     "start_time": "2023-04-12T22:49:48.862706Z",
     "end_time": "2023-04-12T22:49:48.870237Z"
    }
   }
  },
  {
   "cell_type": "code",
   "execution_count": 80,
   "outputs": [
    {
     "data": {
      "text/plain": "<Figure size 640x480 with 1 Axes>",
      "image/png": "[encoded data removed]"
     },
     "metadata": {},
     "output_type": "display_data"
    }
   ],
   "source": [
    "# Extract the 'Joint range X' and 'Joint range Y' columns\n",
    "x = df['Error']\n",
    "y = df['Accuracy']\n",
    "\n",
    "# Create a scatter plot\n",
    "plt.scatter(x, y)\n",
    "plt.xlabel('Error')\n",
    "plt.ylabel('Accuracy')\n",
    "plt.title('Scatter Plot of Error vs Accuracy ')\n",
    "plt.show()"
   ],
   "metadata": {
    "collapsed": false,
    "ExecuteTime": {
     "start_time": "2023-04-12T22:50:51.480218Z",
     "end_time": "2023-04-12T22:50:51.569020Z"
    }
   }
  },
  {
   "cell_type": "code",
   "execution_count": 81,
   "outputs": [
    {
     "data": {
      "text/plain": "<Figure size 640x480 with 1 Axes>",
      "image/png": "[encoded data removed]"
     },
     "metadata": {},
     "output_type": "display_data"
    }
   ],
   "source": [
    "# Extract the 'Joint range X' and 'Joint range Y' columns\n",
    "x = df['Error']\n",
    "y = df['Accuracy']\n",
    "\n",
    "# Create a scatter plot\n",
    "plt.bar(x, y)\n",
    "plt.xlabel('Error')\n",
    "plt.ylabel('Accuracy')\n",
    "plt.title('Scatter Plot of Accuracy vs Error')\n",
    "plt.show()"
   ],
   "metadata": {
    "collapsed": false,
    "ExecuteTime": {
     "start_time": "2023-04-12T22:50:54.794214Z",
     "end_time": "2023-04-12T22:50:54.875271Z"
    }
   }
  },
  {
   "cell_type": "code",
   "execution_count": 82,
   "outputs": [
    {
     "data": {
      "text/plain": "<Figure size 640x480 with 1 Axes>",
      "image/png": "[encoded data removed]"
     },
     "metadata": {},
     "output_type": "display_data"
    }
   ],
   "source": [
    "# Extract the 'Joint range X' and 'Joint range Y' columns\n",
    "x = df['Activation']\n",
    "y = df['Accuracy']\n",
    "\n",
    "# Create a scatter plot\n",
    "plt.bar(x,np.sort(y))\n",
    "plt.xlabel('Activation')\n",
    "plt.ylabel('Accuracy')\n",
    "plt.title('Scatter Plot of Accuracy vs Activation')\n",
    "plt.show()"
   ],
   "metadata": {
    "collapsed": false,
    "ExecuteTime": {
     "start_time": "2023-04-12T22:51:01.468045Z",
     "end_time": "2023-04-12T22:51:01.540737Z"
    }
   }
  },
  {
   "cell_type": "code",
   "execution_count": 83,
   "outputs": [
    {
     "data": {
      "text/plain": "<Figure size 640x480 with 1 Axes>",
      "image/png": "[encoded data removed]"
     },
     "metadata": {},
     "output_type": "display_data"
    }
   ],
   "source": [
    "# Extract the 'Joint range X' and 'Joint range Y' columns\n",
    "x = df['Learning Rate']\n",
    "y = df['Accuracy']\n",
    "\n",
    "# Create a scatter plot\n",
    "plt.bar(x, y)\n",
    "plt.xlabel('Learning Rate')\n",
    "plt.ylabel('Accuracy')\n",
    "plt.title('Scatter Plot of Accuracy vs Learning Rate')\n",
    "plt.show()"
   ],
   "metadata": {
    "collapsed": false,
    "ExecuteTime": {
     "start_time": "2023-04-12T22:51:05.549084Z",
     "end_time": "2023-04-12T22:51:05.618020Z"
    }
   }
  },
  {
   "cell_type": "code",
   "execution_count": 84,
   "outputs": [
    {
     "data": {
      "text/plain": "<Figure size 640x480 with 1 Axes>",
      "image/png": "[encoded data removed]"
     },
     "metadata": {},
     "output_type": "display_data"
    }
   ],
   "source": [
    "# Extract the 'Joint range X' and 'Joint range Y' columns\n",
    "x = df['Solver']\n",
    "y = df['Accuracy']\n",
    "\n",
    "# Create a scatter plot\n",
    "plt.bar(x, y)\n",
    "plt.xlabel('Solver')\n",
    "plt.ylabel('Accuracy')\n",
    "plt.title('Scatter Plot of Accuracy vs Solver')\n",
    "plt.show()"
   ],
   "metadata": {
    "collapsed": false,
    "ExecuteTime": {
     "start_time": "2023-04-12T22:51:10.193653Z",
     "end_time": "2023-04-12T22:51:10.250121Z"
    }
   }
  },
  {
   "cell_type": "code",
   "execution_count": 88,
   "outputs": [
    {
     "data": {
      "text/plain": "<Figure size 640x480 with 1 Axes>",
      "image/png": "[encoded data removed]"
     },
     "metadata": {},
     "output_type": "display_data"
    }
   ],
   "source": [
    "# Extract the 'Joint range X' and 'Joint range Y' columns\n",
    "x = df['Number of Dataset']\n",
    "y = df['Accuracy']\n",
    "\n",
    "# Create a scatter plot\n",
    "plt.scatter(x, y)\n",
    "plt.xlabel('Number of Dataset')\n",
    "plt.ylabel('Accuracy')\n",
    "plt.title('Scatter Plot of Accuracy vs Number of Dataset')\n",
    "plt.show()"
   ],
   "metadata": {
    "collapsed": false,
    "ExecuteTime": {
     "start_time": "2023-04-12T22:53:23.208930Z",
     "end_time": "2023-04-12T22:53:23.294092Z"
    }
   }
  },
  {
   "cell_type": "code",
   "execution_count": 86,
   "outputs": [
    {
     "name": "stdout",
     "output_type": "stream",
     "text": [
      "       Number of Dataset  Number of Test Data  Max Iteration   Accuracy   \n",
      "count          27.000000            27.000000      27.000000  27.000000  \\\n",
      "mean         3490.000000           476.296296     392.592593   0.727648   \n",
      "std          4399.292775           718.155480     139.162124   0.215199   \n",
      "min          1000.000000           100.000000       0.000000   0.160555   \n",
      "25%          1000.000000           100.000000     300.000000   0.597943   \n",
      "50%          1500.000000           200.000000     400.000000   0.697427   \n",
      "75%          4250.000000           425.000000     475.000000   0.953443   \n",
      "max         20000.000000          3000.000000     600.000000   0.989223   \n",
      "\n",
      "       Test Accuracy      Error  \n",
      "count      27.000000  27.000000  \n",
      "mean        0.734376   8.619695  \n",
      "std         0.202570   6.250796  \n",
      "min         0.288225   0.340777  \n",
      "25%         0.608218   4.489906  \n",
      "50%         0.705253   5.659001  \n",
      "75%         0.952593  15.431862  \n",
      "max         0.990993  20.638919  \n"
     ]
    }
   ],
   "source": [
    "print(df.describe())"
   ],
   "metadata": {
    "collapsed": false,
    "ExecuteTime": {
     "start_time": "2023-04-12T22:51:24.166481Z",
     "end_time": "2023-04-12T22:51:24.174428Z"
    }
   }
  },
  {
   "cell_type": "code",
   "execution_count": 89,
   "outputs": [
    {
     "name": "stdout",
     "output_type": "stream",
     "text": [
      "Root Mean Square of Accuracy: 0.7576719020413687\n"
     ]
    }
   ],
   "source": [
    "# Extract the 'Accuracy' column\n",
    "accuracy = df['Accuracy']\n",
    "\n",
    "# Convert the 'Accuracy' column to a numpy array\n",
    "accuracy_array = np.array(accuracy)\n",
    "\n",
    "# Calculate the root mean square of accuracy\n",
    "rms_accuracy = np.sqrt(np.mean(accuracy_array**2))\n",
    "\n",
    "print('Root Mean Square of Accuracy:', rms_accuracy)"
   ],
   "metadata": {
    "collapsed": false,
    "ExecuteTime": {
     "start_time": "2023-04-12T22:54:22.821104Z",
     "end_time": "2023-04-12T22:54:22.862792Z"
    }
   }
  },
  {
   "cell_type": "code",
   "execution_count": 90,
   "outputs": [
    {
     "name": "stdout",
     "output_type": "stream",
     "text": [
      "Root Mean Square of Test Accuracy: 0.7608043858683353\n"
     ]
    }
   ],
   "source": [
    "# Extract the 'Accuracy' column\n",
    "accuracy = df['Test Accuracy']\n",
    "\n",
    "# Convert the 'Accuracy' column to a numpy array\n",
    "accuracy_array = np.array(accuracy)\n",
    "\n",
    "# Calculate the root mean square of accuracy\n",
    "rms_accuracy = np.sqrt(np.mean(accuracy_array**2))\n",
    "\n",
    "print('Root Mean Square of Test Accuracy:', rms_accuracy)"
   ],
   "metadata": {
    "collapsed": false,
    "ExecuteTime": {
     "start_time": "2023-04-12T22:54:41.247847Z",
     "end_time": "2023-04-12T22:54:41.286749Z"
    }
   }
  },
  {
   "cell_type": "code",
   "execution_count": null,
   "outputs": [],
   "source": [],
   "metadata": {
    "collapsed": false
   }
  }
 ],
 "metadata": {
  "kernelspec": {
   "display_name": "Python 3",
   "language": "python",
   "name": "python3"
  },
  "language_info": {
   "codemirror_mode": {
    "name": "ipython",
    "version": 2
   },
   "file_extension": ".py",
   "mimetype": "text/x-python",
   "name": "python",
   "nbconvert_exporter": "python",
   "pygments_lexer": "ipython2",
   "version": "2.7.6"
  }
 },
 "nbformat": 4,
 "nbformat_minor": 0
}
