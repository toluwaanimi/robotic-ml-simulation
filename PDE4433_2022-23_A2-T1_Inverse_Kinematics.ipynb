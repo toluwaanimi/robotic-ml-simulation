{
 "cells": [
  {
   "cell_type": "code",
   "execution_count": 1,
   "metadata": {
    "collapsed": true,
    "ExecuteTime": {
     "start_time": "2023-04-13T21:23:02.590807Z",
     "end_time": "2023-04-13T21:23:06.540256Z"
    }
   },
   "outputs": [],
   "source": [
    "import numpy as np\n",
    "import matplotlib.pyplot as plt\n",
    "from sklearn.neural_network import MLPRegressor  # multilayer perceptron for regression\n",
    "import pandas as pd\n",
    "from sklearn.preprocessing import StandardScaler\n",
    "\n"
   ]
  },
  {
   "cell_type": "code",
   "execution_count": 2,
   "outputs": [],
   "source": [
    "def direct_kin_(joints, links, origin=[0, 0]):\n",
    "    \"\"\"\n",
    "    Implement the forward kinematics for a two-joint planar manipulator.\n",
    "    Args:\n",
    "        joints (list): A list of two joint angles in radians, representing the configuration of the manipulator.\n",
    "        links (list): A list of two link lengths representing the lengths of the two links of the manipulator.\n",
    "        origin (list, optional): An optional parameter that represents the origin point (default [0,0]) from which\n",
    "        the forward kinematics are calculated.\n",
    "\n",
    "    Returns:\n",
    "        list: A list of two arrays [X, Y] representing the Cartesian coordinates of all the link endpoints.\n",
    "    \"\"\"\n",
    "    X = np.zeros(3)\n",
    "    Y = np.zeros(3)\n",
    "    X[0] = origin[0]\n",
    "    Y[0] = origin[1]\n",
    "    X[1] = X[0] + links[0] * np.cos(joints[0])\n",
    "    Y[1] = Y[0] + links[0] * np.sin(joints[0])\n",
    "    X[2] = X[1] + links[1] * np.cos(joints[0] + joints[1])\n",
    "    Y[2] = Y[1] + links[1] * np.sin(joints[0] + joints[1])\n",
    "    return [X, Y]  # return the coordinates of all link endpoints\n",
    "\n",
    "\n",
    "def deg2rad(degrees):\n",
    "    \"\"\"\n",
    "    Convert degrees to radians.\n",
    "\n",
    "    Args:\n",
    "        degrees (float): A value in degrees to be converted to radians.\n",
    "\n",
    "    Returns:\n",
    "        float: The value converted to radians.\n",
    "    \"\"\"\n",
    "    return degrees * np.pi / 180\n",
    "\n",
    "\n",
    "# Define a function to update the data frame\n",
    "def update_dataframe(df, network, learning_rate, algorithm, n_data_set, n_test_data_set, joint_range_x, joint_range_y,\n",
    "                     max_iteration, activation, solver, accuracy, test_accuracy, error, end_effector_position):\n",
    "    \"\"\"\n",
    "    Update the data frame with a new row of data.\n",
    "    \"\"\"\n",
    "    new_row = pd.DataFrame({'Network Layers': [network],\n",
    "                            'Learning Rate': [learning_rate],\n",
    "                            'Algorithm': [algorithm],\n",
    "                            'Number of Dataset': [n_data_set],\n",
    "                            'Number of Test Data': [n_test_data_set],\n",
    "                            'Joint range X': [joint_range_x],\n",
    "                            'Joint range Y': [joint_range_y],\n",
    "                            'Max Iteration': [max_iteration],\n",
    "                            'Activation': [activation],\n",
    "                            'Solver': [solver],\n",
    "                            'Accuracy': [accuracy],\n",
    "                            'Test Accuracy': [test_accuracy],\n",
    "                            'Error': [error],\n",
    "                            'Actual End-effector Position': [end_effector_position]\n",
    "                            })\n",
    "    df = pd.concat([df, new_row], ignore_index=True)\n",
    "    return df"
   ],
   "metadata": {
    "collapsed": false,
    "ExecuteTime": {
     "start_time": "2023-04-13T21:23:18.814515Z",
     "end_time": "2023-04-13T21:23:18.819567Z"
    }
   }
  },
  {
   "cell_type": "code",
   "execution_count": 3,
   "outputs": [],
   "source": [
    "class Arm:\n",
    "    def __init__(self, links=[10, 10], origin=[0, 0], init=[0, 0]):\n",
    "        \"\"\"\n",
    "        Class constructor, defining the basic attributes of the arm and initial configuration.\n",
    "\n",
    "        Args:\n",
    "            links (list, optional): An optional parameter that represents the lengths of the two links of the arm (default [10, 10]).\n",
    "            origin (list, optional): An optional parameter that represents the origin point (default [0, 0]) from which the arm is positioned.\n",
    "            init (list, optional): An optional parameter that represents the initial joint angles (default [0, 0]).\n",
    "        \"\"\"\n",
    "        self.link1 = links[0]\n",
    "        self.link2 = links[1]\n",
    "        self.x0 = origin[0]\n",
    "        self.y0 = origin[1]\n",
    "        self.joint1 = init[0]\n",
    "        self.joint2 = init[1]\n",
    "        self.direct_kin()  # Call the direct_kin() method to perform forward kinematics calculation\n",
    "\n",
    "    def direct_kin(self):\n",
    "        \"\"\"\n",
    "        Calculate the Cartesian coordinates for the current joint configuration.\n",
    "        \"\"\"\n",
    "        # Call the direct_kin_() function with the current joint angles, link lengths, and origin coordinates\n",
    "        [self.X, self.Y] = direct_kin_([self.joint1, self.joint2], [self.link1, self.link2], [self.x0, self.y0])\n",
    "\n",
    "    def plot_arm(self):\n",
    "        \"\"\"\n",
    "        Generate a 2D plot of the current arm configuration.\n",
    "        \"\"\"\n",
    "        # Plot the baseline\n",
    "        plt.plot([-20, 20], [0, 0], 'k')\n",
    "\n",
    "        # Plot the arm segments\n",
    "        plt.plot(self.X, self.Y, linewidth=2.0)\n",
    "\n",
    "        # Plot the arm segment endpoints as red circles\n",
    "        plt.plot(self.X, self.Y, 'ro', linewidth=2.0)\n",
    "\n",
    "        # Set the x and y axis limits based on the total length of the arm\n",
    "        sum_links = (self.link1 + self.link2) * 1.1\n",
    "        plt.axis([-sum_links, sum_links, -1, sum_links])\n",
    "\n",
    "        # Set equal scaling for x and y axes\n",
    "        plt.axis('equal')\n",
    "\n",
    "        # Show the plot\n",
    "        plt.show()\n",
    "\n",
    "    def change_joint_origin(self, new_origin_x, new_origin_y):\n",
    "        # Prompt user for new arm origin\n",
    "        print(\"Current arm origin: \", self.joint1, \" \", self.joint2)\n",
    "        self.joint1 = new_origin_x\n",
    "        self.joint2 = new_origin_y\n",
    "        print(\"Arm joint1 changed to: \", self.joint1, self.joint2)\n",
    "        self.direct_kin()\n",
    "\n",
    "    def change_arm_origin(self, new_origin_x, new_origin_y):\n",
    "        # Prompt user for new arm origin\n",
    "        print(\"Current arm origin: \", self.x0, \" \", self.y0)\n",
    "        self.x0 = new_origin_x\n",
    "        self.y0 = new_origin_y\n",
    "        print(\"Arm origin changed to: \", self.x0, self.y0)\n",
    "        self.direct_kin()\n",
    "\n",
    "    def create_data(self, ann, n_train, n_test, range1, range2):\n",
    "        \"\"\"\n",
    "        Prepare the training and test sets for the neural network solver.\n",
    "\n",
    "        Parameters:\n",
    "            - ann: Neural network solver (e.g., an instance of a neural network class)\n",
    "            - n_train: Number of training samples\n",
    "            - n_test: Number of test samples\n",
    "            - range1: Range for joint 1 values (e.g., [min_joint1, max_joint1])\n",
    "            - range2: Range for joint 2 values (e.g., [min_joint2, max_joint2])\n",
    "        \"\"\"\n",
    "        self.inv_solver = ann  # Store the neural network solver in the class attribute\n",
    "        n_data = n_train + n_test  # Total number of data points\n",
    "        joint_space = np.hstack((np.random.uniform(range1[0], range1[1], size=(n_data, 1)),\n",
    "                                 np.random.uniform(range2[0], range2[1],\n",
    "                                                   size=(n_data, 1))))  # Generate random joint configurations\n",
    "        cartesian_space = np.zeros(np.shape(joint_space))  # Initialize array for storing Cartesian coordinates\n",
    "        for i in range(len(joint_space)):\n",
    "            ax, ay = direct_kin_(joint_space[i], [self.link1,\n",
    "                                                  self.link2])  # Calculate Cartesian coordinates for each joint configuration\n",
    "            cartesian_space[i] = [ax[2], ay[2]]  # Store the Cartesian coordinates\n",
    "        self.cart_train = np.asarray(cartesian_space[:n_train, :])  # Store the training Cartesian coordinates\n",
    "        self.joint_train = np.asarray(joint_space[:n_train, :])  # Store the training joint configurations\n",
    "        self.cart_test = np.asarray(cartesian_space[n_train:, :])  # Store the test Cartesian coordinates\n",
    "        self.joint_test = np.asarray(joint_space[n_train:, :])  # Store the test joint configurations\n",
    "\n",
    "    def train_inv_kin(self):\n",
    "        \"\"\"\n",
    "        Train the kinematic solver.\n",
    "\n",
    "        Returns:\n",
    "            - Training accuracy (mean of scores from the solver)\n",
    "        \"\"\"\n",
    "        self.inv_solver.fit(self.cart_train, self.joint_train)  # Fit the neural network solver with the training data\n",
    "        score = self.inv_solver.score(self.cart_train, self.joint_train)  # Calculate training accuracy\n",
    "        return np.mean(score)  # Return the mean of the training accuracy\n",
    "\n",
    "    def test_inv_kin(self):\n",
    "        \"\"\"\n",
    "        Test the kinematic solver.\n",
    "\n",
    "        Returns:\n",
    "            - Testing accuracy (mean of scores from the solver)\n",
    "        \"\"\"\n",
    "        score = self.inv_solver.score(self.cart_test, self.joint_test)  # Calculate testing accuracy\n",
    "        return np.mean(score)  # Return the mean of the testing accuracy\n",
    "\n",
    "    def inv_kin(self, Cartesian):\n",
    "        \"\"\"\n",
    "        Query the trained inverse kinematic solver on a single Cartesian target.\n",
    "\n",
    "        Args:\n",
    "            - Cartesian: Cartesian target position\n",
    "\n",
    "        Returns:\n",
    "            - err: Euclidean distance error between the predicted and actual end-effector position\n",
    "            - [self.X[2], self.Y[2]]: Actual end-effector position\n",
    "        \"\"\"\n",
    "        joints = self.inv_solver.predict([Cartesian])  # Predict joint configurations for given Cartesian target\n",
    "        [self.joint1, self.joint2] = joints[0]  # Update joint angles\n",
    "        self.direct_kin()  # Update Cartesian coordinates of the end-effector\n",
    "        err = np.sqrt((Cartesian[0] - self.X[2]) ** 2 + (Cartesian[1] - self.Y[2]) ** 2)  # Calculate error\n",
    "        return err, [self.X[2], self.Y[2]]  # Return error and actual end-effector position"
   ],
   "metadata": {
    "collapsed": false,
    "ExecuteTime": {
     "start_time": "2023-04-13T21:23:21.300649Z",
     "end_time": "2023-04-13T21:23:21.306835Z"
    }
   }
  },
  {
   "cell_type": "code",
   "execution_count": 4,
   "outputs": [
    {
     "name": "stdout",
     "output_type": "stream",
     "text": [
      "The average training accuracy for the dataset:  0.9411519697975842\n",
      "The average testing accuracy:  0.9532209074740432\n"
     ]
    },
    {
     "data": {
      "text/plain": "<Figure size 640x480 with 1 Axes>",
      "image/png": "[encoded data removed]"
     },
     "metadata": {},
     "output_type": "display_data"
    }
   ],
   "source": [
    "# this code is only an example, remove it or change it\n",
    "\n",
    "a = Arm()\n",
    "\n",
    "ann = MLPRegressor()\n",
    "\n",
    "n_train = 1000\n",
    "n_test = 100\n",
    "\n",
    "j1_range = (0, np.pi / 2)\n",
    "j2_range = (0, np.pi)\n",
    "\n",
    "a.create_data(ann, n_train, n_test, j1_range, j2_range)\n",
    "accuracy = a.train_inv_kin()\n",
    "test_accuracy = a.test_inv_kin()\n",
    "print(\"The average training accuracy for the dataset: \", accuracy)\n",
    "print(\"The average testing accuracy: \", test_accuracy)\n",
    "a.plot_arm()\n",
    "\n"
   ],
   "metadata": {
    "collapsed": false,
    "ExecuteTime": {
     "start_time": "2023-04-13T21:23:24.707858Z",
     "end_time": "2023-04-13T21:23:24.968929Z"
    }
   }
  },
  {
   "cell_type": "code",
   "execution_count": 5,
   "outputs": [
    {
     "name": "stdout",
     "output_type": "stream",
     "text": [
      "Error: 1.6411648650546853\n",
      "Actual End-effector Position: [0.7209014363200392, 3.4444471407295545]\n"
     ]
    }
   ],
   "source": [
    "# Define a Cartesian target position\n",
    "cartesian_target = [1.5, 2.0]  # target position\n",
    "\n",
    "# Call the inv_kin() function with the Cartesian target position\n",
    "err, actual_end_effector_position = a.inv_kin(cartesian_target)\n",
    "\n",
    "# Print the calculated error and actual end-effector position\n",
    "print(\"Error:\", err)\n",
    "print(\"Actual End-effector Position:\", actual_end_effector_position)"
   ],
   "metadata": {
    "collapsed": false,
    "ExecuteTime": {
     "start_time": "2023-04-13T21:23:26.571025Z",
     "end_time": "2023-04-13T21:23:26.580976Z"
    }
   }
  },
  {
   "cell_type": "code",
   "execution_count": 6,
   "outputs": [
    {
     "name": "stdout",
     "output_type": "stream",
     "text": [
      "Original Data Frame:\n",
      "  Network Layers Learning Rate Algorithm  Number of Dataset   \n",
      "0         (100,)      constant       MLP               1000  \\\n",
      "\n",
      "   Number of Test Data            Joint range X           Joint range Y   \n",
      "0                  100  (0, 1.5707963267948966)  (0, 3.141592653589793)  \\\n",
      "\n",
      "   Max Iteration Activation Solver  Accuracy  Test Accuracy     Error   \n",
      "0              0       relu   adam  0.941152       0.953221  1.641165  \\\n",
      "\n",
      "               Actual End-effector Position  \n",
      "0  [0.7209014363200392, 3.4444471407295545]  \n"
     ]
    }
   ],
   "source": [
    "\n",
    "df = pd.DataFrame({'Network Layers': [(100,)],\n",
    "                   'Learning Rate': ['constant'],\n",
    "                   'Algorithm': ['MLP'],\n",
    "                   'Number of Dataset': [n_train],\n",
    "                   'Number of Test Data': [n_test],\n",
    "                   'Joint range X': [j1_range],\n",
    "                   'Joint range Y': [j2_range],\n",
    "                   'Max Iteration': [0],\n",
    "                   'Activation': ['relu'],\n",
    "                   'Solver': ['adam'],\n",
    "                   'Accuracy': [accuracy],\n",
    "                   'Test Accuracy': [test_accuracy],\n",
    "                   'Error': [err],\n",
    "                   'Actual End-effector Position': [actual_end_effector_position]\n",
    "                   })\n",
    "\n",
    "# Display the original data frame\n",
    "print(\"Original Data Frame:\")\n",
    "print(df)"
   ],
   "metadata": {
    "collapsed": false,
    "ExecuteTime": {
     "start_time": "2023-04-13T21:23:28.493487Z",
     "end_time": "2023-04-13T21:23:28.506747Z"
    }
   }
  },
  {
   "cell_type": "markdown",
   "source": [
    "Task 1 : change the network structure (number of layers and neurons), and parameters (transfer functions, learning rate, algorithms, stop conditions): how does prediction accuracy change?\n"
   ],
   "metadata": {
    "collapsed": false
   }
  },
  {
   "cell_type": "markdown",
   "source": [
    "A. Change the network structure(number of layer and neurons) and parameters(transfer functions, learning rate, algorithms, stop conditions)"
   ],
   "metadata": {
    "collapsed": false
   }
  },
  {
   "cell_type": "code",
   "execution_count": 7,
   "outputs": [
    {
     "name": "stdout",
     "output_type": "stream",
     "text": [
      "The average training accuracy for the dataset:  0.6938946265447189\n",
      "The average testing accuracy:  0.6876622782047749\n",
      "Error: 4.697355613756596\n",
      "Actual End-effector Position: [-1.6069276142473683, 5.523088213757607]\n"
     ]
    }
   ],
   "source": [
    "# Example\n",
    "hidden_layers = (50,)\n",
    "max_iter = 200\n",
    "activation_func = \"identity\"\n",
    "solver_algo = \"adam\"\n",
    "learning_rate = \"invscaling\"\n",
    "stop_condition = False\n",
    "ann = MLPRegressor(hidden_layer_sizes=hidden_layers,\n",
    "                   max_iter=max_iter,\n",
    "                   activation=activation_func,\n",
    "                   solver=solver_algo,\n",
    "                   learning_rate=learning_rate,\n",
    "                   early_stopping=stop_condition)\n",
    "n_train = 1000\n",
    "n_test = 100\n",
    "j1_range = (0, np.pi / 2)\n",
    "j2_range = (0, np.pi)\n",
    "a.create_data(ann, n_train, n_test, j1_range, j2_range)\n",
    "accuracy = a.train_inv_kin()\n",
    "test_accuracy = a.test_inv_kin()\n",
    "print(\"The average training accuracy for the dataset: \", accuracy)\n",
    "print(\"The average testing accuracy: \", test_accuracy)\n",
    "cartesian_target = [1.5, 2.0]  #  target position\n",
    "\n",
    "# Call the inv_kin() function with the Cartesian target position\n",
    "err, actual_end_effector_position = a.inv_kin(cartesian_target)\n",
    "# Print the calculated error and actual end-effector position\n",
    "print(\"Error:\", err)\n",
    "print(\"Actual End-effector Position:\", actual_end_effector_position)\n",
    "df = update_dataframe(df, hidden_layers, learning_rate, 'MLP', n_train, n_test, j1_range,\n",
    "                      j2_range,\n",
    "                      max_iter, activation_func, solver_algo, accuracy, test_accuracy, err,\n",
    "                      actual_end_effector_position)"
   ],
   "metadata": {
    "collapsed": false,
    "ExecuteTime": {
     "start_time": "2023-04-13T21:23:33.820722Z",
     "end_time": "2023-04-13T21:23:33.878840Z"
    }
   }
  },
  {
   "cell_type": "code",
   "execution_count": 8,
   "outputs": [
    {
     "name": "stdout",
     "output_type": "stream",
     "text": [
      "The average training accuracy for the dataset:  0.9530280434292508\n",
      "The average testing accuracy:  0.9372695688576425\n",
      "Error: 3.0347052788158315\n",
      "Actual End-effector Position: [0.09759119731659105, -0.6912238255910197]\n"
     ]
    },
    {
     "name": "stderr",
     "output_type": "stream",
     "text": [
      "/Users/toluwanimi/PycharmProjects/final-course-work/venv/lib/python3.10/site-packages/sklearn/neural_network/_multilayer_perceptron.py:686: ConvergenceWarning: Stochastic Optimizer: Maximum iterations (300) reached and the optimization hasn't converged yet.\n",
      "  warnings.warn(\n"
     ]
    }
   ],
   "source": [
    "#  Example\n",
    "hidden_layers = (200,)\n",
    "max_iter = 300\n",
    "activation_func = \"logistic\"\n",
    "solver_algo = \"adam\"\n",
    "learning_rate = \"adaptive\"\n",
    "stop_condition = True\n",
    "ann = MLPRegressor(hidden_layer_sizes=hidden_layers,\n",
    "                   max_iter=max_iter,\n",
    "                   activation=activation_func,\n",
    "                   solver=solver_algo,\n",
    "                   learning_rate=learning_rate,\n",
    "                   early_stopping=stop_condition)\n",
    "n_train = 1000\n",
    "n_test = 100\n",
    "j1_range = (0, np.pi / 2)\n",
    "j2_range = (0, np.pi)\n",
    "a.create_data(ann, n_train, n_test, j1_range, j2_range)\n",
    "accuracy = a.train_inv_kin()\n",
    "test_accuracy = a.test_inv_kin()\n",
    "print(\"The average training accuracy for the dataset: \", accuracy)\n",
    "print(\"The average testing accuracy: \", test_accuracy)\n",
    "cartesian_target = [1.5, 2.0]  #  target position\n",
    "\n",
    "# Call the inv_kin() function with the Cartesian target position\n",
    "err, actual_end_effector_position = a.inv_kin(cartesian_target)\n",
    "# Print the calculated error and actual end-effector position\n",
    "print(\"Error:\", err)\n",
    "print(\"Actual End-effector Position:\", actual_end_effector_position)\n",
    "df = update_dataframe(df, hidden_layers, learning_rate, 'MLP', n_train, n_test, j1_range,\n",
    "                      j2_range,\n",
    "                      max_iter, activation_func, solver_algo, accuracy, test_accuracy, err,\n",
    "                      actual_end_effector_position)"
   ],
   "metadata": {
    "collapsed": false,
    "ExecuteTime": {
     "start_time": "2023-04-13T21:23:35.624111Z",
     "end_time": "2023-04-13T21:23:36.258939Z"
    }
   }
  },
  {
   "cell_type": "code",
   "execution_count": 9,
   "outputs": [
    {
     "name": "stdout",
     "output_type": "stream",
     "text": [
      "The average training accuracy for the dataset:  0.9856015782882406\n",
      "The average testing accuracy:  0.9909463559345881\n",
      "Error: 0.7809828551563536\n",
      "Actual End-effector Position: [0.9028603696853104, 1.4966527223121142]\n"
     ]
    }
   ],
   "source": [
    "# Example\n",
    "hidden_layers = (100,50)\n",
    "max_iter = 400\n",
    "activation_func = \"tanh\"\n",
    "solver_algo = \"adam\"\n",
    "learning_rate = \"adaptive\"\n",
    "stop_condition = True\n",
    "ann = MLPRegressor(hidden_layer_sizes=hidden_layers,\n",
    "                   max_iter=max_iter,\n",
    "                   activation=activation_func,\n",
    "                   solver=solver_algo,\n",
    "                   learning_rate=learning_rate,\n",
    "                   early_stopping=stop_condition)\n",
    "n_train = 1000\n",
    "n_test = 100\n",
    "j1_range = (0, np.pi / 2)\n",
    "j2_range = (0, np.pi)\n",
    "a.create_data(ann, n_train, n_test, j1_range, j2_range)\n",
    "accuracy = a.train_inv_kin()\n",
    "test_accuracy = a.test_inv_kin()\n",
    "print(\"The average training accuracy for the dataset: \", accuracy)\n",
    "print(\"The average testing accuracy: \", test_accuracy)\n",
    "cartesian_target = [1.5, 2.0]  #  target position\n",
    "\n",
    "# Call the inv_kin() function with the Cartesian target position\n",
    "err, actual_end_effector_position = a.inv_kin(cartesian_target)\n",
    "# Print the calculated error and actual end-effector position\n",
    "print(\"Error:\", err)\n",
    "print(\"Actual End-effector Position:\", actual_end_effector_position)\n",
    "df = update_dataframe(df, hidden_layers, learning_rate, 'MLP', n_train, n_test, j1_range,\n",
    "                      j2_range,\n",
    "                      max_iter, activation_func, solver_algo, accuracy, test_accuracy, err,\n",
    "                      actual_end_effector_position)"
   ],
   "metadata": {
    "collapsed": false,
    "ExecuteTime": {
     "start_time": "2023-04-13T21:23:37.574578Z",
     "end_time": "2023-04-13T21:23:39.362836Z"
    }
   }
  },
  {
   "cell_type": "code",
   "execution_count": 10,
   "outputs": [
    {
     "name": "stdout",
     "output_type": "stream",
     "text": [
      "The average training accuracy for the dataset:  0.6923097438302472\n",
      "The average testing accuracy:  0.699665387884783\n",
      "Error: 4.710461416600299\n",
      "Actual End-effector Position: [-1.823169692222823, 5.33841129191293]\n"
     ]
    }
   ],
   "source": [
    "# Fourth Example\n",
    "hidden_layers = (200,100)\n",
    "max_iter = 500\n",
    "activation_func = \"identity\"\n",
    "solver_algo = \"sgd\"\n",
    "learning_rate = \"adaptive\"\n",
    "stop_condition = False\n",
    "ann = MLPRegressor(hidden_layer_sizes=hidden_layers,\n",
    "                   max_iter=max_iter,\n",
    "                   activation=activation_func,\n",
    "                   solver=solver_algo,\n",
    "                   learning_rate=learning_rate,\n",
    "                   early_stopping=stop_condition)\n",
    "n_train = 1000\n",
    "n_test = 100\n",
    "j1_range = (0, np.pi / 2)\n",
    "j2_range = (0, np.pi)\n",
    "a.create_data(ann, n_train, n_test, j1_range, j2_range)\n",
    "accuracy = a.train_inv_kin()\n",
    "test_accuracy = a.test_inv_kin()\n",
    "print(\"The average training accuracy for the dataset: \", accuracy)\n",
    "print(\"The average testing accuracy: \", test_accuracy)\n",
    "cartesian_target = [1.5, 2.0]  #  target position\n",
    "\n",
    "# Call the inv_kin() function with the Cartesian target position\n",
    "err, actual_end_effector_position = a.inv_kin(cartesian_target)\n",
    "# Print the calculated error and actual end-effector position\n",
    "print(\"Error:\", err)\n",
    "print(\"Actual End-effector Position:\", actual_end_effector_position)\n",
    "df = update_dataframe(df, hidden_layers, learning_rate, 'MLP', n_train, n_test, j1_range,\n",
    "                      j2_range,\n",
    "                      max_iter, activation_func, solver_algo, accuracy, test_accuracy, err,\n",
    "                      actual_end_effector_position)"
   ],
   "metadata": {
    "collapsed": false,
    "ExecuteTime": {
     "start_time": "2023-04-13T21:23:40.623496Z",
     "end_time": "2023-04-13T21:23:41.845048Z"
    }
   }
  },
  {
   "cell_type": "code",
   "execution_count": 11,
   "outputs": [
    {
     "name": "stdout",
     "output_type": "stream",
     "text": [
      "The average training accuracy for the dataset:  0.6626880653776714\n",
      "The average testing accuracy:  0.6870480101206852\n",
      "Error: 6.159228812544288\n",
      "Actual End-effector Position: [-2.5257347504048964, 6.661497536699783]\n"
     ]
    }
   ],
   "source": [
    "# Example\n",
    "hidden_layers = (150,60)\n",
    "max_iter = 350\n",
    "activation_func = \"logistic\"\n",
    "solver_algo = \"sgd\"\n",
    "learning_rate = \"adaptive\"\n",
    "stop_condition = False\n",
    "ann = MLPRegressor(hidden_layer_sizes=hidden_layers,\n",
    "                   max_iter=max_iter,\n",
    "                   activation=activation_func,\n",
    "                   solver=solver_algo,\n",
    "                   learning_rate=learning_rate,\n",
    "                   early_stopping=stop_condition)\n",
    "n_train = 1000\n",
    "n_test = 100\n",
    "j1_range = (0, np.pi / 2)\n",
    "j2_range = (0, np.pi)\n",
    "a.create_data(ann, n_train, n_test, j1_range, j2_range)\n",
    "accuracy = a.train_inv_kin()\n",
    "test_accuracy = a.test_inv_kin()\n",
    "print(\"The average training accuracy for the dataset: \", accuracy)\n",
    "print(\"The average testing accuracy: \", test_accuracy)\n",
    "cartesian_target = [1.5, 2.0]  #  target position\n",
    "\n",
    "# Call the inv_kin() function with the Cartesian target position\n",
    "err, actual_end_effector_position = a.inv_kin(cartesian_target)\n",
    "# Print the calculated error and actual end-effector position\n",
    "print(\"Error:\", err)\n",
    "print(\"Actual End-effector Position:\", actual_end_effector_position)\n",
    "df = update_dataframe(df, hidden_layers, learning_rate, 'MLP', n_train, n_test, j1_range,\n",
    "                      j2_range,\n",
    "                      max_iter, activation_func, solver_algo, accuracy, test_accuracy, err,\n",
    "                      actual_end_effector_position)"
   ],
   "metadata": {
    "collapsed": false,
    "ExecuteTime": {
     "start_time": "2023-04-13T21:23:43.493938Z",
     "end_time": "2023-04-13T21:23:46.025929Z"
    }
   }
  },
  {
   "cell_type": "code",
   "execution_count": 12,
   "outputs": [
    {
     "name": "stdout",
     "output_type": "stream",
     "text": [
      "The average training accuracy for the dataset:  0.6936499660349085\n",
      "The average testing accuracy:  0.6662662431757403\n",
      "Error: 4.754976632401359\n",
      "Actual End-effector Position: [-1.7519614085339175, 5.469084860894739]\n"
     ]
    }
   ],
   "source": [
    "# Example\n",
    "hidden_layers = (300,450)\n",
    "max_iter = 600\n",
    "activation_func = \"logistic\"\n",
    "solver_algo = \"sgd\"\n",
    "learning_rate = \"adaptive\"\n",
    "stop_condition = False\n",
    "ann = MLPRegressor(hidden_layer_sizes=hidden_layers,\n",
    "                   max_iter=max_iter,\n",
    "                   activation=activation_func,\n",
    "                   solver=solver_algo,\n",
    "                   learning_rate=learning_rate,\n",
    "                   early_stopping=stop_condition)\n",
    "n_train = 1000\n",
    "n_test = 100\n",
    "j1_range = (0, np.pi / 2)\n",
    "j2_range = (0, np.pi)\n",
    "a.create_data(ann, n_train, n_test, j1_range, j2_range)\n",
    "accuracy = a.train_inv_kin()\n",
    "test_accuracy = a.test_inv_kin()\n",
    "print(\"The average training accuracy for the dataset: \", accuracy)\n",
    "print(\"The average testing accuracy: \", test_accuracy)\n",
    "cartesian_target = [1.5, 2.0]  #  target position\n",
    "\n",
    "# Call the inv_kin() function with the Cartesian target position\n",
    "err, actual_end_effector_position = a.inv_kin(cartesian_target)\n",
    "# Print the calculated error and actual end-effector position\n",
    "print(\"Error:\", err)\n",
    "print(\"Actual End-effector Position:\", actual_end_effector_position)\n",
    "df = update_dataframe(df, hidden_layers, learning_rate, 'MLP', n_train, n_test, j1_range,\n",
    "                      j2_range,\n",
    "                      max_iter, activation_func, solver_algo, accuracy, test_accuracy, err,\n",
    "                      actual_end_effector_position)"
   ],
   "metadata": {
    "collapsed": false,
    "ExecuteTime": {
     "start_time": "2023-04-13T21:23:49.058218Z",
     "end_time": "2023-04-13T21:24:01.931355Z"
    }
   }
  },
  {
   "cell_type": "code",
   "execution_count": 13,
   "outputs": [
    {
     "name": "stdout",
     "output_type": "stream",
     "text": [
      "The average training accuracy for the dataset:  0.22843807701495894\n",
      "The average testing accuracy:  0.13688702528410435\n",
      "Error: 16.19606265249986\n",
      "Actual End-effector Position: [15.601527218132054, 9.966139313367657]\n"
     ]
    }
   ],
   "source": [
    "# Eight Example\n",
    "hidden_layers = (600,300)\n",
    "max_iter = 600\n",
    "activation_func = \"tanh\"\n",
    "solver_algo = \"sgd\"\n",
    "learning_rate = \"invscaling\"\n",
    "stop_condition = False\n",
    "ann = MLPRegressor(hidden_layer_sizes=hidden_layers,\n",
    "                   max_iter=max_iter,\n",
    "                   activation=activation_func,\n",
    "                   solver=solver_algo,\n",
    "                   learning_rate=learning_rate,\n",
    "                   early_stopping=stop_condition)\n",
    "n_train = 1000\n",
    "n_test = 100\n",
    "j1_range = (0, np.pi / 2)\n",
    "j2_range = (0, np.pi)\n",
    "a.create_data(ann, n_train, n_test, j1_range, j2_range)\n",
    "accuracy = a.train_inv_kin()\n",
    "test_accuracy = a.test_inv_kin()\n",
    "print(\"The average training accuracy for the dataset: \", accuracy)\n",
    "print(\"The average testing accuracy: \", test_accuracy)\n",
    "cartesian_target = [1.5, 2.0]  #  target position\n",
    "\n",
    "# Call the inv_kin() function with the Cartesian target position\n",
    "err, actual_end_effector_position = a.inv_kin(cartesian_target)\n",
    "# Print the calculated error and actual end-effector position\n",
    "print(\"Error:\", err)\n",
    "print(\"Actual End-effector Position:\", actual_end_effector_position)\n",
    "df = update_dataframe(df, hidden_layers, learning_rate, 'MLP', n_train, n_test, j1_range,\n",
    "                      j2_range,\n",
    "                      max_iter, activation_func, solver_algo, accuracy, test_accuracy, err,\n",
    "                      actual_end_effector_position)"
   ],
   "metadata": {
    "collapsed": false,
    "ExecuteTime": {
     "start_time": "2023-04-13T21:24:04.113373Z",
     "end_time": "2023-04-13T21:24:23.932017Z"
    }
   }
  },
  {
   "cell_type": "code",
   "execution_count": 14,
   "outputs": [
    {
     "name": "stdout",
     "output_type": "stream",
     "text": [
      "The average training accuracy for the dataset:  0.686100872078656\n",
      "The average testing accuracy:  0.6832252868035891\n",
      "Error: 5.729579640322799\n",
      "Actual End-effector Position: [-1.9325165136831703, 6.587582504772407]\n"
     ]
    }
   ],
   "source": [
    "# Nine Example\n",
    "hidden_layers = (320,460)\n",
    "max_iter = 450\n",
    "activation_func = \"identity\"\n",
    "solver_algo = \"sgd\"\n",
    "learning_rate = \"constant\"\n",
    "stop_condition = True\n",
    "ann = MLPRegressor(hidden_layer_sizes=hidden_layers,\n",
    "                   max_iter=max_iter,\n",
    "                   activation=activation_func,\n",
    "                   solver=solver_algo,\n",
    "                   learning_rate=learning_rate,\n",
    "                   early_stopping=stop_condition)\n",
    "n_train = 1000\n",
    "n_test = 100\n",
    "j1_range = (0, np.pi / 2)\n",
    "j2_range = (0, np.pi)\n",
    "a.create_data(ann, n_train, n_test, j1_range, j2_range)\n",
    "accuracy = a.train_inv_kin()\n",
    "test_accuracy = a.test_inv_kin()\n",
    "print(\"The average training accuracy for the dataset: \", accuracy)\n",
    "print(\"The average testing accuracy: \", test_accuracy)\n",
    "cartesian_target = [1.5, 2.0]  #  target position\n",
    "\n",
    "# Call the inv_kin() function with the Cartesian target position\n",
    "err, actual_end_effector_position = a.inv_kin(cartesian_target)\n",
    "# Print the calculated error and actual end-effector position\n",
    "print(\"Error:\", err)\n",
    "print(\"Actual End-effector Position:\", actual_end_effector_position)\n",
    "df = update_dataframe(df, hidden_layers, learning_rate, 'MLP', n_train, n_test, j1_range,\n",
    "                      j2_range,\n",
    "                      max_iter, activation_func, solver_algo, accuracy, test_accuracy, err,\n",
    "                      actual_end_effector_position)"
   ],
   "metadata": {
    "collapsed": false,
    "ExecuteTime": {
     "start_time": "2023-04-13T21:24:25.252845Z",
     "end_time": "2023-04-13T21:24:26.699512Z"
    }
   }
  },
  {
   "cell_type": "code",
   "execution_count": 17,
   "outputs": [
    {
     "name": "stdout",
     "output_type": "stream",
     "text": [
      "The average training accuracy for the dataset:  0.4572783745658694\n",
      "The average testing accuracy:  0.49002079367577533\n",
      "Error: 10.38216607916477\n",
      "Actual End-effector Position: [-3.277702703024465, 11.21753380123297]\n"
     ]
    },
    {
     "name": "stderr",
     "output_type": "stream",
     "text": [
      "/Users/toluwanimi/PycharmProjects/final-course-work/venv/lib/python3.10/site-packages/sklearn/neural_network/_multilayer_perceptron.py:686: ConvergenceWarning: Stochastic Optimizer: Maximum iterations (400) reached and the optimization hasn't converged yet.\n",
      "  warnings.warn(\n"
     ]
    }
   ],
   "source": [
    "# Tenth Example\n",
    "hidden_layers = (200,200,200)\n",
    "max_iter = 400\n",
    "activation_func = \"logistic\"\n",
    "solver_algo = \"sgd\"\n",
    "learning_rate = \"adaptive\"\n",
    "stop_condition = True\n",
    "ann = MLPRegressor(hidden_layer_sizes=hidden_layers,\n",
    "                   max_iter=max_iter,\n",
    "                   activation=activation_func,\n",
    "                   solver=solver_algo,\n",
    "                   learning_rate=learning_rate,\n",
    "                   early_stopping=stop_condition)\n",
    "n_train = 1000\n",
    "n_test = 100\n",
    "j1_range = (0, np.pi / 2)\n",
    "j2_range = (0, np.pi)\n",
    "a.create_data(ann, n_train, n_test, j1_range, j2_range)\n",
    "accuracy = a.train_inv_kin()\n",
    "test_accuracy = a.test_inv_kin()\n",
    "print(\"The average training accuracy for the dataset: \", accuracy)\n",
    "print(\"The average testing accuracy: \", test_accuracy)\n",
    "cartesian_target = [1.5, 2.0]  #  target position\n",
    "\n",
    "# Call the inv_kin() function with the Cartesian target position\n",
    "err, actual_end_effector_position = a.inv_kin(cartesian_target)\n",
    "# Print the calculated error and actual end-effector position\n",
    "print(\"Error:\", err)\n",
    "print(\"Actual End-effector Position:\", actual_end_effector_position)\n",
    "df = update_dataframe(df, hidden_layers, learning_rate, 'MLP', n_train, n_test, j1_range,\n",
    "                      j2_range,\n",
    "                      max_iter, activation_func, solver_algo, accuracy, test_accuracy, err,\n",
    "                      actual_end_effector_position)"
   ],
   "metadata": {
    "collapsed": false,
    "ExecuteTime": {
     "start_time": "2023-04-13T21:24:50.775205Z",
     "end_time": "2023-04-13T21:25:12.498811Z"
    }
   }
  },
  {
   "cell_type": "code",
   "execution_count": 22,
   "outputs": [
    {
     "data": {
      "text/plain": "<Figure size 640x480 with 1 Axes>",
      "image/png": "[encoded data removed]"
     },
     "metadata": {},
     "output_type": "display_data"
    }
   ],
   "source": [
    "x = df['Error']\n",
    "y = df['Accuracy']\n",
    "\n",
    "plt.scatter(x, y)\n",
    "plt.xlabel('Error')\n",
    "plt.ylabel('Accuracy')\n",
    "plt.title('Plot of Error vs Accuracy ')\n",
    "plt.show()"
   ],
   "metadata": {
    "collapsed": false,
    "ExecuteTime": {
     "start_time": "2023-04-13T21:28:26.840177Z",
     "end_time": "2023-04-13T21:28:26.901159Z"
    }
   }
  },
  {
   "cell_type": "code",
   "execution_count": 23,
   "outputs": [
    {
     "data": {
      "text/plain": "<Figure size 640x480 with 1 Axes>",
      "image/png": "[encoded data removed]"
     },
     "metadata": {},
     "output_type": "display_data"
    }
   ],
   "source": [
    "x = df['Error']\n",
    "y = df['Accuracy']\n",
    "\n",
    "plt.bar(x, y)\n",
    "plt.xlabel('Error')\n",
    "plt.ylabel('Accuracy')\n",
    "plt.title('Plot of Accuracy vs Error')\n",
    "plt.show()"
   ],
   "metadata": {
    "collapsed": false,
    "ExecuteTime": {
     "start_time": "2023-04-13T21:28:33.334788Z",
     "end_time": "2023-04-13T21:28:33.416241Z"
    }
   }
  },
  {
   "cell_type": "code",
   "execution_count": 24,
   "outputs": [
    {
     "data": {
      "text/plain": "<Figure size 640x480 with 1 Axes>",
      "image/png": "[encoded data removed]"
     },
     "metadata": {},
     "output_type": "display_data"
    }
   ],
   "source": [
    "x = df['Activation']\n",
    "y = df['Accuracy']\n",
    "\n",
    "plt.bar(x,np.sort(y))\n",
    "plt.xlabel('Activation')\n",
    "plt.ylabel('Accuracy')\n",
    "plt.title(' Plot of Accuracy vs Activation')\n",
    "plt.show()"
   ],
   "metadata": {
    "collapsed": false,
    "ExecuteTime": {
     "start_time": "2023-04-13T21:28:41.387157Z",
     "end_time": "2023-04-13T21:28:41.448455Z"
    }
   }
  },
  {
   "cell_type": "code",
   "execution_count": 25,
   "outputs": [
    {
     "data": {
      "text/plain": "<Figure size 640x480 with 1 Axes>",
      "image/png": "[encoded data removed]"
     },
     "metadata": {},
     "output_type": "display_data"
    }
   ],
   "source": [
    "x = df['Learning Rate']\n",
    "y = df['Accuracy']\n",
    "\n",
    "plt.bar(x, y)\n",
    "plt.xlabel('Learning Rate')\n",
    "plt.ylabel('Accuracy')\n",
    "plt.title('Scatter Plot of Accuracy vs Learning Rate')\n",
    "plt.show()"
   ],
   "metadata": {
    "collapsed": false,
    "ExecuteTime": {
     "start_time": "2023-04-13T21:28:47.682757Z",
     "end_time": "2023-04-13T21:28:47.732845Z"
    }
   }
  },
  {
   "cell_type": "code",
   "execution_count": 26,
   "outputs": [
    {
     "data": {
      "text/plain": "<Figure size 640x480 with 1 Axes>",
      "image/png": "[encoded data removed]"
     },
     "metadata": {},
     "output_type": "display_data"
    }
   ],
   "source": [
    "x = df['Solver']\n",
    "y = df['Accuracy']\n",
    "\n",
    "plt.bar(x, y)\n",
    "plt.xlabel('Solver')\n",
    "plt.ylabel('Accuracy')\n",
    "plt.title('Scatter Plot of Accuracy vs Solver')\n",
    "plt.show()"
   ],
   "metadata": {
    "collapsed": false,
    "ExecuteTime": {
     "start_time": "2023-04-13T21:28:55.646859Z",
     "end_time": "2023-04-13T21:28:55.702418Z"
    }
   }
  },
  {
   "cell_type": "code",
   "execution_count": 27,
   "outputs": [
    {
     "data": {
      "text/plain": "<Figure size 640x480 with 1 Axes>",
      "image/png": "[encoded data removed]"
     },
     "metadata": {},
     "output_type": "display_data"
    }
   ],
   "source": [
    "x = df['Number of Dataset']\n",
    "y = df['Accuracy']\n",
    "\n",
    "plt.scatter(x, y)\n",
    "plt.xlabel('Number of Dataset')\n",
    "plt.ylabel('Accuracy')\n",
    "plt.title('Scatter Plot of Accuracy vs Number of Dataset')\n",
    "plt.show()"
   ],
   "metadata": {
    "collapsed": false,
    "ExecuteTime": {
     "start_time": "2023-04-13T21:29:01.089827Z",
     "end_time": "2023-04-13T21:29:01.153600Z"
    }
   }
  },
  {
   "cell_type": "markdown",
   "source": [
    "B.Change the quantity of training data, and the joint ranges: how does that affect accuracy?\n"
   ],
   "metadata": {
    "collapsed": false
   }
  },
  {
   "cell_type": "code",
   "execution_count": 28,
   "outputs": [
    {
     "name": "stdout",
     "output_type": "stream",
     "text": [
      "The average training accuracy for the dataset:  0.4886078296240016\n",
      "The average testing accuracy:  0.47179716097381047\n",
      "Error: 19.715093004543395\n",
      "Actual End-effector Position: [17.830657744839115, -9.045112484656826]\n"
     ]
    }
   ],
   "source": [
    "# Example\n",
    "hidden_layers = (50,)\n",
    "max_iter = 200\n",
    "activation_func = \"identity\"\n",
    "solver_algo = \"adam\"\n",
    "learning_rate = \"invscaling\"\n",
    "stop_condition = False\n",
    "ann = MLPRegressor(hidden_layer_sizes=hidden_layers,\n",
    "                   max_iter=max_iter,\n",
    "                   activation=activation_func,\n",
    "                   solver=solver_algo,\n",
    "                   learning_rate=learning_rate,\n",
    "                   early_stopping=stop_condition)\n",
    "n_train = 1200\n",
    "n_test = 110\n",
    "j1_range = (0, deg2rad(30))\n",
    "j2_range = (0, deg2rad(45))\n",
    "a.create_data(ann, n_train, n_test, j1_range, j2_range)\n",
    "accuracy = a.train_inv_kin()\n",
    "test_accuracy = a.test_inv_kin()\n",
    "print(\"The average training accuracy for the dataset: \", accuracy)\n",
    "print(\"The average testing accuracy: \", test_accuracy)\n",
    "cartesian_target = [1.5, 2.0]  #  target position\n",
    "\n",
    "# Call the inv_kin() function with the Cartesian target position\n",
    "err, actual_end_effector_position = a.inv_kin(cartesian_target)\n",
    "# Print the calculated error and actual end-effector position\n",
    "print(\"Error:\", err)\n",
    "print(\"Actual End-effector Position:\", actual_end_effector_position)\n",
    "df = update_dataframe(df, hidden_layers, learning_rate, 'MLP', n_train, n_test, j1_range,\n",
    "                      j2_range,\n",
    "                      max_iter, activation_func, solver_algo, accuracy, test_accuracy, err,\n",
    "                      actual_end_effector_position)"
   ],
   "metadata": {
    "collapsed": false,
    "ExecuteTime": {
     "start_time": "2023-04-13T21:29:07.643182Z",
     "end_time": "2023-04-13T21:29:07.683307Z"
    }
   }
  },
  {
   "cell_type": "code",
   "execution_count": 29,
   "outputs": [
    {
     "name": "stdout",
     "output_type": "stream",
     "text": [
      "The average training accuracy for the dataset:  0.9468599428751967\n",
      "The average testing accuracy:  0.9492984963502185\n",
      "Error: 20.960751194541913\n",
      "Actual End-effector Position: [-10.860431991559032, -14.928461584607572]\n"
     ]
    },
    {
     "name": "stderr",
     "output_type": "stream",
     "text": [
      "/Users/toluwanimi/PycharmProjects/final-course-work/venv/lib/python3.10/site-packages/sklearn/neural_network/_multilayer_perceptron.py:686: ConvergenceWarning: Stochastic Optimizer: Maximum iterations (300) reached and the optimization hasn't converged yet.\n",
      "  warnings.warn(\n"
     ]
    }
   ],
   "source": [
    "# First Example\n",
    "hidden_layers = (200,)\n",
    "max_iter = 300\n",
    "activation_func = \"logistic\"\n",
    "solver_algo = \"adam\"\n",
    "learning_rate = \"adaptive\"\n",
    "stop_condition = True\n",
    "ann = MLPRegressor(hidden_layer_sizes=hidden_layers,\n",
    "                   max_iter=max_iter,\n",
    "                   activation=activation_func,\n",
    "                   solver=solver_algo,\n",
    "                   learning_rate=learning_rate,\n",
    "                   early_stopping=stop_condition)\n",
    "n_train = 2000\n",
    "n_test = 200\n",
    "j1_range = (0, deg2rad(45))\n",
    "j2_range = (0, deg2rad(60))\n",
    "a.create_data(ann, n_train, n_test, j1_range, j2_range)\n",
    "accuracy = a.train_inv_kin()\n",
    "test_accuracy = a.test_inv_kin()\n",
    "print(\"The average training accuracy for the dataset: \", accuracy)\n",
    "print(\"The average testing accuracy: \", test_accuracy)\n",
    "cartesian_target = [1.5, 2.0]  #  target position\n",
    "\n",
    "# Call the inv_kin() function with the Cartesian target position\n",
    "err, actual_end_effector_position = a.inv_kin(cartesian_target)\n",
    "# Print the calculated error and actual end-effector position\n",
    "print(\"Error:\", err)\n",
    "print(\"Actual End-effector Position:\", actual_end_effector_position)\n",
    "df = update_dataframe(df, hidden_layers, learning_rate, 'MLP', n_train, n_test, j1_range,\n",
    "                      j2_range,\n",
    "                      max_iter, activation_func, solver_algo, accuracy, test_accuracy, err,\n",
    "                      actual_end_effector_position)"
   ],
   "metadata": {
    "collapsed": false,
    "ExecuteTime": {
     "start_time": "2023-04-13T21:29:09.069189Z",
     "end_time": "2023-04-13T21:29:10.481183Z"
    }
   }
  },
  {
   "cell_type": "code",
   "execution_count": 30,
   "outputs": [
    {
     "name": "stdout",
     "output_type": "stream",
     "text": [
      "The average training accuracy for the dataset:  0.9625754083245015\n",
      "The average testing accuracy:  0.9635631454149725\n",
      "Error: 7.326942385624862\n",
      "Actual End-effector Position: [-4.8172248356800935, -1.7117051469281286]\n"
     ]
    }
   ],
   "source": [
    "# First Example\n",
    "hidden_layers = (100,50)\n",
    "max_iter = 400\n",
    "activation_func = \"tanh\"\n",
    "solver_algo = \"adam\"\n",
    "learning_rate = \"adaptive\"\n",
    "stop_condition = True\n",
    "ann = MLPRegressor(hidden_layer_sizes=hidden_layers,\n",
    "                   max_iter=max_iter,\n",
    "                   activation=activation_func,\n",
    "                   solver=solver_algo,\n",
    "                   learning_rate=learning_rate,\n",
    "                   early_stopping=stop_condition)\n",
    "n_train = 3000\n",
    "n_test = 300\n",
    "j1_range = (0, deg2rad(60))\n",
    "j2_range = (0, deg2rad(70))\n",
    "a.create_data(ann, n_train, n_test, j1_range, j2_range)\n",
    "accuracy = a.train_inv_kin()\n",
    "test_accuracy = a.test_inv_kin()\n",
    "print(\"The average training accuracy for the dataset: \", accuracy)\n",
    "print(\"The average testing accuracy: \", test_accuracy)\n",
    "cartesian_target = [1.5, 2.0]  #  target position\n",
    "\n",
    "# Call the inv_kin() function with the Cartesian target position\n",
    "err, actual_end_effector_position = a.inv_kin(cartesian_target)\n",
    "# Print the calculated error and actual end-effector position\n",
    "print(\"Error:\", err)\n",
    "print(\"Actual End-effector Position:\", actual_end_effector_position)\n",
    "df = update_dataframe(df, hidden_layers, learning_rate, 'MLP', n_train, n_test, j1_range,\n",
    "                      j2_range,\n",
    "                      max_iter, activation_func, solver_algo, accuracy, test_accuracy, err,\n",
    "                      actual_end_effector_position)"
   ],
   "metadata": {
    "collapsed": false,
    "ExecuteTime": {
     "start_time": "2023-04-13T21:29:11.931030Z",
     "end_time": "2023-04-13T21:29:15.320550Z"
    }
   }
  },
  {
   "cell_type": "code",
   "execution_count": 31,
   "outputs": [
    {
     "name": "stdout",
     "output_type": "stream",
     "text": [
      "The average training accuracy for the dataset:  0.6826036228657895\n",
      "The average testing accuracy:  0.6747111658647845\n",
      "Error: 11.571258018511987\n",
      "Actual End-effector Position: [12.365694271241676, 5.978781237374555]\n"
     ]
    }
   ],
   "source": [
    "# Example\n",
    "hidden_layers = (50,50)\n",
    "max_iter = 400\n",
    "activation_func = \"identity\"\n",
    "solver_algo = \"sgd\"\n",
    "learning_rate = \"adaptive\"\n",
    "stop_condition = False\n",
    "ann = MLPRegressor(hidden_layer_sizes=hidden_layers,\n",
    "                   max_iter=max_iter,\n",
    "                   activation=activation_func,\n",
    "                   solver=solver_algo,\n",
    "                   learning_rate=learning_rate,\n",
    "                   early_stopping=stop_condition)\n",
    "n_train = 1000\n",
    "n_test = 300\n",
    "j1_range = (0, deg2rad(35))\n",
    "j2_range = (0, deg2rad(90))\n",
    "a.create_data(ann, n_train, n_test, j1_range, j2_range)\n",
    "accuracy = a.train_inv_kin()\n",
    "test_accuracy = a.test_inv_kin()\n",
    "print(\"The average training accuracy for the dataset: \", accuracy)\n",
    "print(\"The average testing accuracy: \", test_accuracy)\n",
    "cartesian_target = [1.5, 2.0]  #  target position\n",
    "\n",
    "# Call the inv_kin() function with the Cartesian target position\n",
    "err, actual_end_effector_position = a.inv_kin(cartesian_target)\n",
    "# Print the calculated error and actual end-effector position\n",
    "print(\"Error:\", err)\n",
    "print(\"Actual End-effector Position:\", actual_end_effector_position)\n",
    "df = update_dataframe(df, hidden_layers, learning_rate, 'MLP', n_train, n_test, j1_range,\n",
    "                      j2_range,\n",
    "                      max_iter, activation_func, solver_algo, accuracy, test_accuracy, err,\n",
    "                      actual_end_effector_position)"
   ],
   "metadata": {
    "collapsed": false,
    "ExecuteTime": {
     "start_time": "2023-04-13T21:29:16.227826Z",
     "end_time": "2023-04-13T21:29:19.051074Z"
    }
   }
  },
  {
   "cell_type": "code",
   "execution_count": 32,
   "outputs": [
    {
     "name": "stdout",
     "output_type": "stream",
     "text": [
      "The average training accuracy for the dataset:  0.6668642496863251\n",
      "The average testing accuracy:  0.660910737970979\n",
      "Error: 8.102583276401875\n",
      "Actual End-effector Position: [0.10224891262151736, 9.98111193059962]\n"
     ]
    }
   ],
   "source": [
    "# Example\n",
    "hidden_layers = (150,60)\n",
    "max_iter = 350\n",
    "activation_func = \"logistic\"\n",
    "solver_algo = \"sgd\"\n",
    "learning_rate = \"adaptive\"\n",
    "stop_condition = False\n",
    "ann = MLPRegressor(hidden_layer_sizes=hidden_layers,\n",
    "                   max_iter=max_iter,\n",
    "                   activation=activation_func,\n",
    "                   solver=solver_algo,\n",
    "                   learning_rate=learning_rate,\n",
    "                   early_stopping=stop_condition)\n",
    "n_train = 5000\n",
    "n_test = 500\n",
    "j1_range = (0, deg2rad(90))\n",
    "j2_range = (0, deg2rad(120))\n",
    "a.create_data(ann, n_train, n_test, j1_range, j2_range)\n",
    "accuracy = a.train_inv_kin()\n",
    "test_accuracy = a.test_inv_kin()\n",
    "print(\"The average training accuracy for the dataset: \", accuracy)\n",
    "print(\"The average testing accuracy: \", test_accuracy)\n",
    "cartesian_target = [1.5, 2.0]  #  target position\n",
    "\n",
    "# Call the inv_kin() function with the Cartesian target position\n",
    "err, actual_end_effector_position = a.inv_kin(cartesian_target)\n",
    "# Print the calculated error and actual end-effector position\n",
    "print(\"Error:\", err)\n",
    "print(\"Actual End-effector Position:\", actual_end_effector_position)\n",
    "df = update_dataframe(df, hidden_layers, learning_rate, 'MLP', n_train, n_test, j1_range,\n",
    "                      j2_range,\n",
    "                      max_iter, activation_func, solver_algo, accuracy, test_accuracy, err,\n",
    "                      actual_end_effector_position)"
   ],
   "metadata": {
    "collapsed": false,
    "ExecuteTime": {
     "start_time": "2023-04-13T21:29:20.351217Z",
     "end_time": "2023-04-13T21:29:33.476141Z"
    }
   }
  },
  {
   "cell_type": "code",
   "execution_count": 33,
   "outputs": [
    {
     "name": "stdout",
     "output_type": "stream",
     "text": [
      "The average training accuracy for the dataset:  0.6578539708015385\n",
      "The average testing accuracy:  0.6586691850150458\n",
      "Error: 7.907257196327908\n",
      "Actual End-effector Position: [0.4586312927600513, 9.838384245778009]\n"
     ]
    }
   ],
   "source": [
    "# First Example\n",
    "hidden_layers = (300,450)\n",
    "max_iter = 600\n",
    "activation_func = \"logistic\"\n",
    "solver_algo = \"sgd\"\n",
    "learning_rate = \"adaptive\"\n",
    "stop_condition = False\n",
    "ann = MLPRegressor(hidden_layer_sizes=hidden_layers,\n",
    "                   max_iter=max_iter,\n",
    "                   activation=activation_func,\n",
    "                   solver=solver_algo,\n",
    "                   learning_rate=learning_rate,\n",
    "                   early_stopping=stop_condition)\n",
    "n_train = 6000\n",
    "n_test = 600\n",
    "j1_range = (0, deg2rad(90))\n",
    "j2_range = (0, deg2rad(120))\n",
    "a.create_data(ann, n_train, n_test, j1_range, j2_range)\n",
    "accuracy = a.train_inv_kin()\n",
    "test_accuracy = a.test_inv_kin()\n",
    "print(\"The average training accuracy for the dataset: \", accuracy)\n",
    "print(\"The average testing accuracy: \", test_accuracy)\n",
    "cartesian_target = [1.5, 2.0]  #  target position\n",
    "\n",
    "# Call the inv_kin() function with the Cartesian target position\n",
    "err, actual_end_effector_position = a.inv_kin(cartesian_target)\n",
    "# Print the calculated error and actual end-effector position\n",
    "print(\"Error:\", err)\n",
    "print(\"Actual End-effector Position:\", actual_end_effector_position)\n",
    "df = update_dataframe(df, hidden_layers, learning_rate, 'MLP', n_train, n_test, j1_range,\n",
    "                      j2_range,\n",
    "                      max_iter, activation_func, solver_algo, accuracy, test_accuracy, err,\n",
    "                      actual_end_effector_position)"
   ],
   "metadata": {
    "collapsed": false,
    "ExecuteTime": {
     "start_time": "2023-04-13T21:29:37.052408Z",
     "end_time": "2023-04-13T21:30:26.172088Z"
    }
   }
  },
  {
   "cell_type": "code",
   "execution_count": 34,
   "outputs": [
    {
     "name": "stdout",
     "output_type": "stream",
     "text": [
      "The average training accuracy for the dataset:  0.8295905777345701\n",
      "The average testing accuracy:  0.8267749539848865\n",
      "Error: 15.147715732407873\n",
      "Actual End-effector Position: [15.99688304427436, 6.392456477925253]\n"
     ]
    }
   ],
   "source": [
    "# First Example\n",
    "hidden_layers = (600,300)\n",
    "max_iter = 600\n",
    "activation_func = \"tanh\"\n",
    "solver_algo = \"sgd\"\n",
    "learning_rate = \"invscaling\"\n",
    "stop_condition = False\n",
    "\n",
    "ann = MLPRegressor(hidden_layer_sizes=hidden_layers,\n",
    "                   max_iter=max_iter,\n",
    "                   activation=activation_func,\n",
    "                   solver=solver_algo,\n",
    "                   learning_rate=learning_rate,\n",
    "                   early_stopping=stop_condition)\n",
    "n_train = 7000\n",
    "n_test = 700\n",
    "j1_range = (0, deg2rad(120))\n",
    "j2_range = (0, deg2rad(150))\n",
    "a.create_data(ann, n_train, n_test, j1_range, j2_range)\n",
    "accuracy = a.train_inv_kin()\n",
    "test_accuracy = a.test_inv_kin()\n",
    "print(\"The average training accuracy for the dataset: \", accuracy)\n",
    "print(\"The average testing accuracy: \", test_accuracy)\n",
    "cartesian_target = [1.5, 2.0]  #  target position\n",
    "\n",
    "# Call the inv_kin() function with the Cartesian target position\n",
    "err, actual_end_effector_position = a.inv_kin(cartesian_target)\n",
    "# Print the calculated error and actual end-effector position\n",
    "print(\"Error:\", err)\n",
    "print(\"Actual End-effector Position:\", actual_end_effector_position)\n",
    "df = update_dataframe(df, hidden_layers, learning_rate, 'MLP', n_train, n_test, j1_range,\n",
    "                      j2_range,\n",
    "                      max_iter, activation_func, solver_algo, accuracy, test_accuracy, err,\n",
    "                      actual_end_effector_position)"
   ],
   "metadata": {
    "collapsed": false,
    "ExecuteTime": {
     "start_time": "2023-04-13T21:30:37.693731Z",
     "end_time": "2023-04-13T21:30:51.515803Z"
    }
   }
  },
  {
   "cell_type": "code",
   "execution_count": 35,
   "outputs": [
    {
     "name": "stdout",
     "output_type": "stream",
     "text": [
      "The average training accuracy for the dataset:  0.6754926043643597\n",
      "The average testing accuracy:  0.6593777100157212\n",
      "Error: 8.395393914709402\n",
      "Actual End-effector Position: [9.578841374520444, 4.28362891654408]\n"
     ]
    },
    {
     "name": "stderr",
     "output_type": "stream",
     "text": [
      "/Users/toluwanimi/PycharmProjects/final-course-work/venv/lib/python3.10/site-packages/sklearn/neural_network/_multilayer_perceptron.py:686: ConvergenceWarning: Stochastic Optimizer: Maximum iterations (450) reached and the optimization hasn't converged yet.\n",
      "  warnings.warn(\n"
     ]
    }
   ],
   "source": [
    "# First Example\n",
    "hidden_layers = (50,)\n",
    "max_iter = 450\n",
    "activation_func = \"identity\"\n",
    "solver_algo = \"sgd\"\n",
    "learning_rate = \"constant\"\n",
    "stop_condition = True\n",
    "ann = MLPRegressor(hidden_layer_sizes=hidden_layers,\n",
    "                   max_iter=max_iter,\n",
    "                   activation=activation_func,\n",
    "                   solver=solver_algo,\n",
    "                   learning_rate=learning_rate,\n",
    "                   early_stopping=stop_condition)\n",
    "n_train = 5000\n",
    "n_test = 100\n",
    "j1_range = (0, deg2rad(30))\n",
    "j2_range = (0, deg2rad(60))\n",
    "a.create_data(ann, n_train, n_test, j1_range, j2_range)\n",
    "accuracy = a.train_inv_kin()\n",
    "test_accuracy = a.test_inv_kin()\n",
    "print(\"The average training accuracy for the dataset: \", accuracy)\n",
    "print(\"The average testing accuracy: \", test_accuracy)\n",
    "cartesian_target = [1.5, 2.0]  #  target position\n",
    "\n",
    "# Call the inv_kin() function with the Cartesian target position\n",
    "err, actual_end_effector_position = a.inv_kin(cartesian_target)\n",
    "# Print the calculated error and actual end-effector position\n",
    "print(\"Error:\", err)\n",
    "print(\"Actual End-effector Position:\", actual_end_effector_position)\n",
    "df = update_dataframe(df, hidden_layers, learning_rate, 'MLP', n_train, n_test, j1_range,\n",
    "                      j2_range,\n",
    "                      max_iter, activation_func, solver_algo, accuracy, test_accuracy, err,\n",
    "                      actual_end_effector_position)"
   ],
   "metadata": {
    "collapsed": false,
    "ExecuteTime": {
     "start_time": "2023-04-13T21:30:53.219026Z",
     "end_time": "2023-04-13T21:30:54.274055Z"
    }
   }
  },
  {
   "cell_type": "code",
   "execution_count": 36,
   "outputs": [
    {
     "name": "stdout",
     "output_type": "stream",
     "text": [
      "The average training accuracy for the dataset:  0.49641382993179456\n",
      "The average testing accuracy:  0.4963997641944848\n",
      "Error: 15.478248121726079\n",
      "Actual End-effector Position: [8.571889774764237, 15.768243894240904]\n"
     ]
    }
   ],
   "source": [
    "# First Example\n",
    "hidden_layers = (200,200,200)\n",
    "max_iter = 400\n",
    "activation_func = \"logistic\"\n",
    "solver_algo = \"sgd\"\n",
    "learning_rate = \"adaptive\"\n",
    "stop_condition = False\n",
    "ann = MLPRegressor(hidden_layer_sizes=hidden_layers,\n",
    "                   max_iter=max_iter,\n",
    "                   activation=activation_func,\n",
    "                   solver=solver_algo,\n",
    "                   learning_rate=learning_rate,\n",
    "                   early_stopping=stop_condition)\n",
    "n_train = 10000\n",
    "n_test = 1000\n",
    "j1_range = (0, deg2rad(60))\n",
    "j2_range = (0, deg2rad(90))\n",
    "a.create_data(ann, n_train, n_test, j1_range, j2_range)\n",
    "accuracy = a.train_inv_kin()\n",
    "test_accuracy = a.test_inv_kin()\n",
    "print(\"The average training accuracy for the dataset: \", accuracy)\n",
    "print(\"The average testing accuracy: \", test_accuracy)\n",
    "cartesian_target = [1.5, 2.0]  #  target position\n",
    "\n",
    "# Call the inv_kin() function with the Cartesian target position\n",
    "err, actual_end_effector_position = a.inv_kin(cartesian_target)\n",
    "# Print the calculated error and actual end-effector position\n",
    "print(\"Error:\", err)\n",
    "print(\"Actual End-effector Position:\", actual_end_effector_position)\n",
    "df = update_dataframe(df, hidden_layers, learning_rate, 'MLP', n_train, n_test, j1_range,\n",
    "                      j2_range,\n",
    "                      max_iter, activation_func, solver_algo, accuracy, test_accuracy, err,\n",
    "                      actual_end_effector_position)"
   ],
   "metadata": {
    "collapsed": false,
    "ExecuteTime": {
     "start_time": "2023-04-13T21:30:55.421499Z",
     "end_time": "2023-04-13T21:31:41.073581Z"
    }
   }
  },
  {
   "cell_type": "code",
   "execution_count": 37,
   "outputs": [
    {
     "name": "stdout",
     "output_type": "stream",
     "text": [
      "The average training accuracy for the dataset:  0.9832447237085292\n",
      "The average testing accuracy:  0.9830121867801569\n",
      "Error: 9.289873928293803\n",
      "Actual End-effector Position: [5.1598123083443195, 10.538590719274719]\n"
     ]
    }
   ],
   "source": [
    "# First Example\n",
    "hidden_layers = (150,250,100)\n",
    "max_iter = 250\n",
    "activation_func = \"logistic\"\n",
    "solver_algo = \"adam\"\n",
    "learning_rate = \"invscaling\"\n",
    "stop_condition = False\n",
    "ann = MLPRegressor(hidden_layer_sizes=hidden_layers,\n",
    "                   max_iter=max_iter,\n",
    "                   activation=activation_func,\n",
    "                   solver=solver_algo,\n",
    "                   learning_rate=learning_rate,\n",
    "                   early_stopping=stop_condition)\n",
    "n_train = 20000\n",
    "n_test = 2500\n",
    "j1_range = (0, deg2rad(60))\n",
    "j2_range = (0, deg2rad(90))\n",
    "a.create_data(ann, n_train, n_test, j1_range, j2_range)\n",
    "accuracy = a.train_inv_kin()\n",
    "test_accuracy = a.test_inv_kin()\n",
    "print(\"The average training accuracy for the dataset: \", accuracy)\n",
    "print(\"The average testing accuracy: \", test_accuracy)\n",
    "cartesian_target = [1.5, 2.0]  #  target position\n",
    "\n",
    "# Call the inv_kin() function with the Cartesian target position\n",
    "err, actual_end_effector_position = a.inv_kin(cartesian_target)\n",
    "# Print the calculated error and actual end-effector position\n",
    "print(\"Error:\", err)\n",
    "print(\"Actual End-effector Position:\", actual_end_effector_position)\n",
    "df = update_dataframe(df, hidden_layers, learning_rate, 'MLP', n_train, n_test, j1_range,\n",
    "                      j2_range,\n",
    "                      max_iter, activation_func, solver_algo, accuracy, test_accuracy, err,\n",
    "                      actual_end_effector_position)"
   ],
   "metadata": {
    "collapsed": false,
    "ExecuteTime": {
     "start_time": "2023-04-13T21:31:46.971429Z",
     "end_time": "2023-04-13T21:32:06.986546Z"
    }
   }
  },
  {
   "cell_type": "code",
   "execution_count": 38,
   "outputs": [
    {
     "name": "stdout",
     "output_type": "stream",
     "text": [
      "The average training accuracy for the dataset:  0.9866963535801075\n",
      "The average testing accuracy:  0.9838524152396897\n",
      "Error: 1.2487212138419919\n",
      "Actual End-effector Position: [0.7052629884854573, 1.0368293233139045]\n"
     ]
    }
   ],
   "source": [
    "# First Example\n",
    "hidden_layers = (100,50)\n",
    "max_iter = 300\n",
    "activation_func = \"tanh\"\n",
    "solver_algo = \"adam\"\n",
    "learning_rate = \"adaptive\"\n",
    "stop_condition = False\n",
    "ann = MLPRegressor(hidden_layer_sizes=hidden_layers,\n",
    "                   max_iter=max_iter,\n",
    "                   activation=activation_func,\n",
    "                   solver=solver_algo,\n",
    "                   learning_rate=learning_rate,\n",
    "                   early_stopping=stop_condition)\n",
    "n_train = 3500\n",
    "n_test = 3000\n",
    "j1_range = (0, deg2rad(90))\n",
    "j2_range = (0, deg2rad(180))\n",
    "a.create_data(ann, n_train, n_test, j1_range, j2_range)\n",
    "accuracy = a.train_inv_kin()\n",
    "test_accuracy = a.test_inv_kin()\n",
    "print(\"The average training accuracy for the dataset: \", accuracy)\n",
    "print(\"The average testing accuracy: \", test_accuracy)\n",
    "cartesian_target = [1.5, 2.0]  #  target position\n",
    "\n",
    "# Call the inv_kin() function with the Cartesian target position\n",
    "err, actual_end_effector_position = a.inv_kin(cartesian_target)\n",
    "# Print the calculated error and actual end-effector position\n",
    "print(\"Error:\", err)\n",
    "print(\"Actual End-effector Position:\", actual_end_effector_position)\n",
    "df = update_dataframe(df, hidden_layers, learning_rate, 'MLP', n_train, n_test, j1_range,\n",
    "                      j2_range,\n",
    "                      max_iter, activation_func, solver_algo, accuracy, test_accuracy, err,\n",
    "                      actual_end_effector_position)"
   ],
   "metadata": {
    "collapsed": false,
    "ExecuteTime": {
     "start_time": "2023-04-13T21:32:08.582630Z",
     "end_time": "2023-04-13T21:32:10.564963Z"
    }
   }
  },
  {
   "cell_type": "code",
   "execution_count": 39,
   "outputs": [
    {
     "name": "stdout",
     "output_type": "stream",
     "text": [
      "The average training accuracy for the dataset:  0.9869182193778979\n",
      "The average testing accuracy:  0.9887288833132837\n",
      "Error: 1.08423153876204\n",
      "Actual End-effector Position: [0.46429691814434904, 1.6792553104398953]\n"
     ]
    }
   ],
   "source": [
    "# First Example\n",
    "hidden_layers = (50,50,50)\n",
    "max_iter = 400\n",
    "activation_func = \"relu\"\n",
    "solver_algo = \"sgd\"\n",
    "learning_rate = \"constant\"\n",
    "stop_condition = True\n",
    "ann = MLPRegressor(hidden_layer_sizes=hidden_layers,\n",
    "                   max_iter=max_iter,\n",
    "                   activation=activation_func,\n",
    "                   solver=solver_algo,\n",
    "                   learning_rate=learning_rate,\n",
    "                   early_stopping=stop_condition)\n",
    "n_train = 12000\n",
    "n_test = 1200\n",
    "j1_range = (0, deg2rad(90))\n",
    "j2_range = (0, deg2rad(180))\n",
    "a.create_data(ann, n_train, n_test, j1_range, j2_range)\n",
    "accuracy = a.train_inv_kin()\n",
    "test_accuracy = a.test_inv_kin()\n",
    "print(\"The average training accuracy for the dataset: \", accuracy)\n",
    "print(\"The average testing accuracy: \", test_accuracy)\n",
    "cartesian_target = [1.5, 2.0]  #  target position\n",
    "\n",
    "# Call the inv_kin() function with the Cartesian target position\n",
    "err, actual_end_effector_position = a.inv_kin(cartesian_target)\n",
    "# Print the calculated error and actual end-effector position\n",
    "print(\"Error:\", err)\n",
    "print(\"Actual End-effector Position:\", actual_end_effector_position)\n",
    "df = update_dataframe(df, hidden_layers, learning_rate, 'MLP', n_train, n_test, j1_range,\n",
    "                      j2_range,\n",
    "                      max_iter, activation_func, solver_algo, accuracy, test_accuracy, err,\n",
    "                      actual_end_effector_position)"
   ],
   "metadata": {
    "collapsed": false,
    "ExecuteTime": {
     "start_time": "2023-04-13T21:32:11.932362Z",
     "end_time": "2023-04-13T21:32:24.884180Z"
    }
   }
  },
  {
   "cell_type": "code",
   "execution_count": 40,
   "outputs": [
    {
     "name": "stdout",
     "output_type": "stream",
     "text": [
      "The average training accuracy for the dataset:  0.9569250909370427\n",
      "The average testing accuracy:  0.9430746794879028\n",
      "Error: 1.5441145010095614\n",
      "Actual End-effector Position: [-0.031424477740333856, 1.802443270917562]\n"
     ]
    }
   ],
   "source": [
    "# First Example\n",
    "hidden_layers = (120,350,200)\n",
    "max_iter = 300\n",
    "activation_func = \"relu\"\n",
    "solver_algo = \"sgd\"\n",
    "learning_rate = \"adaptive\"\n",
    "stop_condition = False\n",
    "ann = MLPRegressor(hidden_layer_sizes=hidden_layers,\n",
    "                   max_iter=max_iter,\n",
    "                   activation=activation_func,\n",
    "                   solver=solver_algo,\n",
    "                   learning_rate=learning_rate,\n",
    "                   early_stopping=stop_condition)\n",
    "n_train = 2030\n",
    "n_test = 350\n",
    "j1_range = (0, deg2rad(90))\n",
    "j2_range = (0, deg2rad(180))\n",
    "a.create_data(ann, n_train, n_test, j1_range, j2_range)\n",
    "accuracy = a.train_inv_kin()\n",
    "test_accuracy = a.test_inv_kin()\n",
    "print(\"The average training accuracy for the dataset: \", accuracy)\n",
    "print(\"The average testing accuracy: \", test_accuracy)\n",
    "cartesian_target = [1.5, 2.0]  #  target position\n",
    "\n",
    "# Call the inv_kin() function with the Cartesian target position\n",
    "err, actual_end_effector_position = a.inv_kin(cartesian_target)\n",
    "# Print the calculated error and actual end-effector position\n",
    "print(\"Error:\", err)\n",
    "print(\"Actual End-effector Position:\", actual_end_effector_position)\n",
    "df = update_dataframe(df, hidden_layers, learning_rate, 'MLP', n_train, n_test, j1_range,\n",
    "                      j2_range,\n",
    "                      max_iter, activation_func, solver_algo, accuracy, test_accuracy, err,\n",
    "                      actual_end_effector_position)"
   ],
   "metadata": {
    "collapsed": false,
    "ExecuteTime": {
     "start_time": "2023-04-13T21:32:26.594736Z",
     "end_time": "2023-04-13T21:32:40.160151Z"
    }
   }
  },
  {
   "cell_type": "code",
   "execution_count": 41,
   "outputs": [
    {
     "name": "stdout",
     "output_type": "stream",
     "text": [
      "The average training accuracy for the dataset:  0.7064130171969554\n",
      "The average testing accuracy:  0.6960427716289941\n",
      "Error: 4.768553765284213\n",
      "Actual End-effector Position: [-1.7679993533712732, 5.472648159369328]\n"
     ]
    }
   ],
   "source": [
    "# First Example\n",
    "hidden_layers = (200,100)\n",
    "max_iter = 500\n",
    "activation_func = \"identity\"\n",
    "solver_algo = \"sgd\"\n",
    "learning_rate = \"adaptive\"\n",
    "stop_condition = False\n",
    "\n",
    "ann = MLPRegressor(hidden_layer_sizes=hidden_layers,\n",
    "                   max_iter=max_iter,\n",
    "                   activation=activation_func,\n",
    "                   solver=solver_algo,\n",
    "                   learning_rate=learning_rate,\n",
    "                   early_stopping=stop_condition)\n",
    "n_train = 2000\n",
    "n_test = 300\n",
    "j1_range = (0, deg2rad(90))\n",
    "j2_range = (0, deg2rad(180))\n",
    "a.create_data(ann, n_train, n_test, j1_range, j2_range)\n",
    "accuracy = a.train_inv_kin()\n",
    "test_accuracy = a.test_inv_kin()\n",
    "print(\"The average training accuracy for the dataset: \", accuracy)\n",
    "print(\"The average testing accuracy: \", test_accuracy)\n",
    "cartesian_target = [1.5, 2.0]  #  target position\n",
    "\n",
    "# Call the inv_kin() function with the Cartesian target position\n",
    "err, actual_end_effector_position = a.inv_kin(cartesian_target)\n",
    "# Print the calculated error and actual end-effector position\n",
    "print(\"Error:\", err)\n",
    "print(\"Actual End-effector Position:\", actual_end_effector_position)\n",
    "df = update_dataframe(df, hidden_layers, learning_rate, 'MLP', n_train, n_test, j1_range,\n",
    "                      j2_range,\n",
    "                      max_iter, activation_func, solver_algo, accuracy, test_accuracy, err,\n",
    "                      actual_end_effector_position)"
   ],
   "metadata": {
    "collapsed": false,
    "ExecuteTime": {
     "start_time": "2023-04-13T21:32:42.138782Z",
     "end_time": "2023-04-13T21:32:43.785312Z"
    }
   }
  },
  {
   "cell_type": "code",
   "execution_count": 42,
   "outputs": [
    {
     "name": "stdout",
     "output_type": "stream",
     "text": [
      "(25, 14)\n"
     ]
    }
   ],
   "source": [
    "print(df.shape)"
   ],
   "metadata": {
    "collapsed": false,
    "ExecuteTime": {
     "start_time": "2023-04-13T21:32:50.713596Z",
     "end_time": "2023-04-13T21:32:50.720233Z"
    }
   }
  },
  {
   "cell_type": "code",
   "execution_count": 44,
   "outputs": [
    {
     "data": {
      "text/plain": "<Figure size 640x480 with 1 Axes>",
      "image/png": "[encoded data removed]"
     },
     "metadata": {},
     "output_type": "display_data"
    }
   ],
   "source": [
    "x = df['Error']\n",
    "y = df['Accuracy']\n",
    "\n",
    "plt.scatter(x, y)\n",
    "plt.xlabel('Error')\n",
    "plt.ylabel('Accuracy')\n",
    "plt.title('Plot of Error vs Accuracy ')\n",
    "plt.show()"
   ],
   "metadata": {
    "collapsed": false,
    "ExecuteTime": {
     "start_time": "2023-04-13T21:33:03.328161Z",
     "end_time": "2023-04-13T21:33:03.392435Z"
    }
   }
  },
  {
   "cell_type": "code",
   "execution_count": 45,
   "outputs": [
    {
     "data": {
      "text/plain": "<Figure size 640x480 with 1 Axes>",
      "image/png": "[encoded data removed]"
     },
     "metadata": {},
     "output_type": "display_data"
    }
   ],
   "source": [
    "x = df['Error']\n",
    "y = df['Accuracy']\n",
    "\n",
    "plt.bar(x, y)\n",
    "plt.xlabel('Error')\n",
    "plt.ylabel('Accuracy')\n",
    "plt.title('Plot of Accuracy vs Error')\n",
    "plt.show()"
   ],
   "metadata": {
    "collapsed": false,
    "ExecuteTime": {
     "start_time": "2023-04-13T21:33:15.694565Z",
     "end_time": "2023-04-13T21:33:15.796335Z"
    }
   }
  },
  {
   "cell_type": "code",
   "execution_count": 47,
   "outputs": [
    {
     "data": {
      "text/plain": "<Figure size 640x480 with 1 Axes>",
      "image/png": "[encoded data removed]"
     },
     "metadata": {},
     "output_type": "display_data"
    }
   ],
   "source": [
    "x = df['Activation']\n",
    "y = df['Accuracy']\n",
    "\n",
    "plt.bar(x,np.sort(y))\n",
    "plt.xlabel('Activation')\n",
    "plt.ylabel('Accuracy')\n",
    "plt.title('Plot of Accuracy vs Activation')\n",
    "plt.show()"
   ],
   "metadata": {
    "collapsed": false,
    "ExecuteTime": {
     "start_time": "2023-04-13T21:33:28.170753Z",
     "end_time": "2023-04-13T21:33:28.231380Z"
    }
   }
  },
  {
   "cell_type": "code",
   "execution_count": 50,
   "outputs": [
    {
     "data": {
      "text/plain": "<Figure size 640x480 with 1 Axes>",
      "image/png": "[encoded data removed]"
     },
     "metadata": {},
     "output_type": "display_data"
    }
   ],
   "source": [
    "x = df['Learning Rate']\n",
    "y = df['Accuracy']\n",
    "\n",
    "plt.bar(x, y)\n",
    "plt.xlabel('Learning Rate')\n",
    "plt.ylabel('Accuracy')\n",
    "plt.title('Plot of Accuracy vs Learning Rate')\n",
    "plt.show()"
   ],
   "metadata": {
    "collapsed": false,
    "ExecuteTime": {
     "start_time": "2023-04-13T21:33:49.692975Z",
     "end_time": "2023-04-13T21:33:49.743744Z"
    }
   }
  },
  {
   "cell_type": "code",
   "execution_count": 52,
   "outputs": [
    {
     "data": {
      "text/plain": "<Figure size 640x480 with 1 Axes>",
      "image/png": "[encoded data removed]"
     },
     "metadata": {},
     "output_type": "display_data"
    }
   ],
   "source": [
    "x = df['Solver']\n",
    "y = df['Accuracy']\n",
    "\n",
    "plt.bar(x, y)\n",
    "plt.xlabel('Solver')\n",
    "plt.ylabel('Accuracy')\n",
    "plt.title('Plot of Accuracy vs Solver')\n",
    "plt.show()"
   ],
   "metadata": {
    "collapsed": false,
    "ExecuteTime": {
     "start_time": "2023-04-13T21:34:17.676253Z",
     "end_time": "2023-04-13T21:34:17.738778Z"
    }
   }
  },
  {
   "cell_type": "code",
   "execution_count": 53,
   "outputs": [
    {
     "data": {
      "text/plain": "<Figure size 640x480 with 1 Axes>",
      "image/png": "[encoded data removed]"
     },
     "metadata": {},
     "output_type": "display_data"
    }
   ],
   "source": [
    "x = df['Number of Dataset']\n",
    "y = df['Accuracy']\n",
    "\n",
    "plt.scatter(x, y)\n",
    "plt.xlabel('Number of Dataset')\n",
    "plt.ylabel('Accuracy')\n",
    "plt.title('Plot of Accuracy vs Number of Dataset')\n",
    "plt.show()"
   ],
   "metadata": {
    "collapsed": false,
    "ExecuteTime": {
     "start_time": "2023-04-13T21:34:28.280546Z",
     "end_time": "2023-04-13T21:34:28.378013Z"
    }
   }
  },
  {
   "cell_type": "code",
   "execution_count": 54,
   "outputs": [
    {
     "name": "stdout",
     "output_type": "stream",
     "text": [
      "       Number of Dataset  Number of Test Data  Max Iteration   Accuracy   \n",
      "count          25.000000            25.000000      25.000000  25.000000  \\\n",
      "mean         3629.200000           490.400000     386.000000   0.720985   \n",
      "std          4548.505176           745.606465     142.536545   0.250693   \n",
      "min          1000.000000           100.000000       0.000000   0.003436   \n",
      "25%          1000.000000           100.000000     300.000000   0.662688   \n",
      "50%          1200.000000           110.000000     400.000000   0.693650   \n",
      "75%          5000.000000           500.000000     450.000000   0.953028   \n",
      "max         20000.000000          3000.000000     600.000000   0.986918   \n",
      "\n",
      "       Test Accuracy      Error  \n",
      "count      25.000000  25.000000  \n",
      "mean        0.715536   8.124468  \n",
      "std         0.258351   5.857295  \n",
      "min        -0.000034   0.780983  \n",
      "25%         0.659378   4.697356  \n",
      "50%         0.687662   7.326942  \n",
      "75%         0.949298  11.571258  \n",
      "max         0.990946  20.960751  \n"
     ]
    }
   ],
   "source": [
    "print(df.describe())"
   ],
   "metadata": {
    "collapsed": false,
    "ExecuteTime": {
     "start_time": "2023-04-13T21:34:31.873225Z",
     "end_time": "2023-04-13T21:34:31.879161Z"
    }
   }
  },
  {
   "cell_type": "code",
   "execution_count": 55,
   "outputs": [
    {
     "name": "stdout",
     "output_type": "stream",
     "text": [
      "Root Mean Square of Accuracy: 0.7616779393450441\n"
     ]
    }
   ],
   "source": [
    "# Extract the 'Accuracy' column\n",
    "accuracy = df['Accuracy']\n",
    "\n",
    "# Convert the 'Accuracy' column to a numpy array\n",
    "accuracy_array = np.array(accuracy)\n",
    "\n",
    "# Calculate the root mean square of accuracy\n",
    "rms_accuracy = np.sqrt(np.mean(accuracy_array**2))\n",
    "\n",
    "print('Root Mean Square of Accuracy:', rms_accuracy)"
   ],
   "metadata": {
    "collapsed": false,
    "ExecuteTime": {
     "start_time": "2023-04-13T21:34:39.438215Z",
     "end_time": "2023-04-13T21:34:39.451674Z"
    }
   }
  },
  {
   "cell_type": "code",
   "execution_count": 56,
   "outputs": [
    {
     "name": "stdout",
     "output_type": "stream",
     "text": [
      "Root Mean Square of Test Accuracy: 0.758990530232909\n"
     ]
    }
   ],
   "source": [
    "# Extract the 'Accuracy' column\n",
    "accuracy = df['Test Accuracy']\n",
    "\n",
    "# Convert the 'Accuracy' column to a numpy array\n",
    "accuracy_array = np.array(accuracy)\n",
    "\n",
    "# Calculate the root mean square of accuracy\n",
    "rms_accuracy = np.sqrt(np.mean(accuracy_array**2))\n",
    "\n",
    "print('Root Mean Square of Test Accuracy:', rms_accuracy)"
   ],
   "metadata": {
    "collapsed": false,
    "ExecuteTime": {
     "start_time": "2023-04-13T21:34:42.527629Z",
     "end_time": "2023-04-13T21:34:42.541220Z"
    }
   }
  },
  {
   "cell_type": "markdown",
   "source": [
    "A. change the network structure (number of layers and neurons), and parameters (transfer functions, learning rate, algorithms, stop conditions): how does prediction accuracy change?\n"
   ],
   "metadata": {
    "collapsed": false
   }
  },
  {
   "cell_type": "markdown",
   "source": [
    "Scatter Plot of Accuracy vs Activation"
   ],
   "metadata": {
    "collapsed": false
   }
  },
  {
   "cell_type": "markdown",
   "source": [
    "Based on the chart, it appears that the logistic activation function outperforms the other three functions (identity, tanh, and relu) in terms of accuracy. The logistic function has a smooth and bounded output, which can help prevent the gradient from vanishing or exploding during training. However, the logistic function also has a limited range, which can make it harder for the network to model complex data.\n",
    "The identity function comes next, The tanh function is similar to the logistic function, but with a wider range, which can help the network better model complex data. However, like the logistic function, it can also suffer from vanishing gradients.\n",
    "Even though relu function (rectified linear unit) has become a popular choice in recent years due to its simplicity and computational efficiency, it has performed low compared to the other functions. It also helps prevent vanishing gradients but can suffer from \"dead\" neurons that output zero for all inputs less than zero.\n"
   ],
   "metadata": {
    "collapsed": false
   }
  },
  {
   "cell_type": "markdown",
   "source": [
    "Scatter Plot of Accuracy vs Learning Rate"
   ],
   "metadata": {
    "collapsed": false
   }
  },
  {
   "cell_type": "markdown",
   "source": [
    "Based on the chart, adaptive learning rate schedule outperforms the other two schedules that was considered in this analysis (constant and inverse scaling) in terms of the accuracy.\n",
    "Adaptive learning rate schedules, such as Adam or Adagrad, dynamically adjust the learning rate based on the gradient history of the network during training. This can lead to faster convergence and better performance compared to fixed learning rate schedules.\n",
    "Constant learning rate was right behind adaptive learning rate, constant learning rate schedules keep the learning rate fixed throughout training. While this can work well in some cases, it can also lead to suboptimal performance if the learning rate is not set properly.\n",
    "Inverse scaling schedules decrease the learning rate over time as the number of epochs increases. This can help the network converge more slowly and avoid overshooting the minimum of the loss function. However, this schedule can also lead to slower convergence and may not perform as well as adaptive learning rate schedules in certain cases. This attribute is seen through the chart as Inverse scaling performs least in the learning rates considered.\n"
   ],
   "metadata": {
    "collapsed": false
   }
  },
  {
   "cell_type": "markdown",
   "source": [
    "Scatter Plot of Accuracy vs Solver"
   ],
   "metadata": {
    "collapsed": false
   }
  },
  {
   "cell_type": "markdown",
   "source": [
    "Based on the chart, the Adam optimization algorithm outperforms the Stochastic Gradient Descent (SGD) algorithm in terms of Accuracy.\n",
    "\n",
    "Adam is an adaptive optimization algorithm that combines the benefits of two other optimization algorithms, Adagrad and RMSprop. It uses adaptive learning rates for each parameter and momentum-like techniques to overcome the limitations of SGD.\n",
    "On the other hand, SGD is a simple and widely used optimization algorithm that updates the parameters of the network using the gradients of the loss function with respect to the parameters. While it is computationally efficient and easy to implement, SGD can converge slowly and may get stuck in local optima.\n"
   ],
   "metadata": {
    "collapsed": false
   }
  },
  {
   "cell_type": "markdown",
   "source": [
    "B. change the quantity of training data, and the joint ranges: how does that affect accuracy?\n",
    "\n",
    "Perform systematic tests on appropriate values and ranges (how do you choose them?) and report your results, answering the questions."
   ],
   "metadata": {
    "collapsed": false
   }
  },
  {
   "cell_type": "markdown",
   "source": [
    " The graph shows a high instability in accuracy (ranging between 0.1 and 1) with low number of datasets, but as the data set increases, the accuracy began to tend towards 1 more having little or no sample of training below 0.5 and later a guaranteed accuracy of almost 100%"
   ],
   "metadata": {
    "collapsed": false
   }
  },
  {
   "cell_type": "code",
   "execution_count": null,
   "outputs": [],
   "source": [],
   "metadata": {
    "collapsed": false
   }
  }
 ],
 "metadata": {
  "kernelspec": {
   "display_name": "Python 3",
   "language": "python",
   "name": "python3"
  },
  "language_info": {
   "codemirror_mode": {
    "name": "ipython",
    "version": 2
   },
   "file_extension": ".py",
   "mimetype": "text/x-python",
   "name": "python",
   "nbconvert_exporter": "python",
   "pygments_lexer": "ipython2",
   "version": "2.7.6"
  }
 },
 "nbformat": 4,
 "nbformat_minor": 0
}
